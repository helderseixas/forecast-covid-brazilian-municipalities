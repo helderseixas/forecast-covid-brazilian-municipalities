{
 "cells": [
  {
   "cell_type": "markdown",
   "source": "# Preparing data for forecasting",
   "metadata": {
    "collapsed": false
   }
  },
  {
   "cell_type": "code",
   "metadata": {
    "collapsed": true,
    "ExecuteTime": {
     "end_time": "2024-05-02T21:13:17.960874Z",
     "start_time": "2024-05-02T21:13:17.208483Z"
    }
   },
   "source": [
    "import pandas as pd\n",
    "from statsmodels.tsa.stattools import adfuller\n",
    "import numpy as np"
   ],
   "execution_count": 1,
   "outputs": []
  },
  {
   "cell_type": "markdown",
   "source": [
    "## Reading data"
   ],
   "metadata": {
    "collapsed": false
   }
  },
  {
   "cell_type": "code",
   "source": [
    "df = pd.read_csv('../data/input/df_ts_epidemic_episodes.csv', index_col=0)\n",
    "df.DATA = pd.to_datetime(df.DATA, infer_datetime_format=True)"
   ],
   "metadata": {
    "collapsed": false,
    "ExecuteTime": {
     "end_time": "2024-05-02T21:13:18.398598Z",
     "start_time": "2024-05-02T21:13:17.962844Z"
    }
   },
   "execution_count": 2,
   "outputs": []
  },
  {
   "metadata": {
    "ExecuteTime": {
     "end_time": "2024-05-02T21:13:18.404361Z",
     "start_time": "2024-05-02T21:13:18.400155Z"
    }
   },
   "cell_type": "code",
   "source": "list_municipalities = df['MUNICIPIO'].unique()",
   "execution_count": 3,
   "outputs": []
  },
  {
   "metadata": {
    "ExecuteTime": {
     "end_time": "2024-05-02T21:13:18.409633Z",
     "start_time": "2024-05-02T21:13:18.406182Z"
    }
   },
   "cell_type": "code",
   "source": "date = pd.to_datetime('2021-06-20')",
   "execution_count": 4,
   "outputs": []
  },
  {
   "metadata": {
    "ExecuteTime": {
     "end_time": "2024-05-02T21:13:18.424863Z",
     "start_time": "2024-05-02T21:13:18.411141Z"
    }
   },
   "cell_type": "code",
   "source": [
    "date_1 = date + pd.DateOffset(days=84)\n",
    "date_1"
   ],
   "execution_count": 5,
   "outputs": []
  },
  {
   "metadata": {
    "ExecuteTime": {
     "end_time": "2024-05-02T21:13:18.431834Z",
     "start_time": "2024-05-02T21:13:18.426884Z"
    }
   },
   "cell_type": "code",
   "source": [
    "date_2 = date_1 + pd.DateOffset(days=84)\n",
    "date_2"
   ],
   "execution_count": 6,
   "outputs": []
  },
  {
   "metadata": {
    "ExecuteTime": {
     "end_time": "2024-05-02T21:13:18.438447Z",
     "start_time": "2024-05-02T21:13:18.433156Z"
    }
   },
   "cell_type": "code",
   "source": [
    "date_3 = date_2 + pd.DateOffset(days=84)\n",
    "date_3"
   ],
   "execution_count": 7,
   "outputs": []
  },
  {
   "metadata": {
    "ExecuteTime": {
     "end_time": "2024-05-02T21:13:18.443238Z",
     "start_time": "2024-05-02T21:13:18.440168Z"
    }
   },
   "cell_type": "code",
   "source": "epidemiologic_weeks = [date_1, date_2, date_3]",
   "execution_count": 8,
   "outputs": []
  },
  {
   "metadata": {
    "ExecuteTime": {
     "end_time": "2024-05-02T21:13:18.448642Z",
     "start_time": "2024-05-02T21:13:18.445701Z"
    }
   },
   "cell_type": "code",
   "source": [
    "FORECASTING_HORIZON = 84\n",
    "NUMBER_OF_SAMPLES = 20"
   ],
   "execution_count": 9,
   "outputs": []
  },
  {
   "cell_type": "markdown",
   "source": "## Original dataset",
   "metadata": {
    "collapsed": false
   }
  },
  {
   "cell_type": "code",
   "source": [
    "df = df.sort_values(by=['MUNICIPIO','DATA'])"
   ],
   "metadata": {
    "collapsed": false,
    "ExecuteTime": {
     "end_time": "2024-05-02T21:13:18.470528Z",
     "start_time": "2024-05-02T21:13:18.450120Z"
    }
   },
   "execution_count": 10,
   "outputs": []
  },
  {
   "cell_type": "code",
   "source": [
    "df.columns"
   ],
   "metadata": {
    "collapsed": false,
    "ExecuteTime": {
     "end_time": "2024-05-02T21:13:18.477446Z",
     "start_time": "2024-05-02T21:13:18.472154Z"
    }
   },
   "execution_count": 11,
   "outputs": []
  },
  {
   "metadata": {
    "ExecuteTime": {
     "end_time": "2024-05-02T21:13:18.482560Z",
     "start_time": "2024-05-02T21:13:18.478938Z"
    }
   },
   "cell_type": "code",
   "source": "max_date = epidemiologic_weeks[-1] + pd.Timedelta(days=FORECASTING_HORIZON-1)",
   "execution_count": 12,
   "outputs": []
  },
  {
   "cell_type": "code",
   "source": "df_original = df.loc[(df['DATA']>=date_1) & (df['DATA']<=max_date)]",
   "metadata": {
    "collapsed": false,
    "ExecuteTime": {
     "end_time": "2024-05-02T21:13:18.492484Z",
     "start_time": "2024-05-02T21:13:18.484114Z"
    }
   },
   "execution_count": 13,
   "outputs": []
  },
  {
   "metadata": {},
   "cell_type": "markdown",
   "source": "## Noised dataset"
  },
  {
   "metadata": {
    "ExecuteTime": {
     "end_time": "2024-05-02T21:13:42.205956Z",
     "start_time": "2024-05-02T21:13:18.493442Z"
    }
   },
   "cell_type": "code",
   "source": [
    "df_noised = pd.DataFrame()\n",
    "for municipality in list_municipalities:\n",
    "    df_municipality = df_original.loc[df['MUNICIPIO']==municipality]\n",
    "    \n",
    "    for i in range(NUMBER_OF_SAMPLES):\n",
    "        ts_data = df_municipality.set_index('DATA')['TAXA_OBITOS_NOVOS_MEDIA_MOVEL_7_DIAS'] \n",
    "        noise = np.random.uniform(low=-0.01, high=0.01, size=len(ts_data))\n",
    "        noise_scaled = noise * ts_data\n",
    "        ts_data_noised = ts_data + noise_scaled\n",
    "        ts_data_noised[ts_data_noised < 0] = 0\n",
    "        \n",
    "        df_municipality_noised = df_municipality.copy()\n",
    "        df_municipality_noised['TAXA_OBITOS_NOVOS_MEDIA_MOVEL_7_DIAS_NOISED'] = ts_data_noised.values\n",
    "        df_municipality_noised['AMOSTRA'] = i  \n",
    "        \n",
    "        df_noised = pd.concat([df_noised, df_municipality_noised])"
   ],
   "execution_count": 14,
   "outputs": []
  },
  {
   "metadata": {
    "ExecuteTime": {
     "end_time": "2024-05-02T21:13:43.074355Z",
     "start_time": "2024-05-02T21:13:42.207235Z"
    }
   },
   "cell_type": "code",
   "source": [
    "import matplotlib.pyplot as plt\n",
    "\n",
    "plt.plot(df_original[df_original['MUNICIPIO']=='Belo Horizonte']['DATA'], df_original[df_original['MUNICIPIO']=='Belo Horizonte']['TAXA_OBITOS_NOVOS_MEDIA_MOVEL_7_DIAS'], color='blue')\n",
    "plt.plot(df_noised[(df_noised['MUNICIPIO']=='Belo Horizonte') & (df_noised['AMOSTRA']==1)]['DATA'], df_noised[(df_noised['MUNICIPIO']=='Belo Horizonte') & (df_noised['AMOSTRA']==1)]['TAXA_OBITOS_NOVOS_MEDIA_MOVEL_7_DIAS_NOISED'], color='red')\n",
    "plt.show()"
   ],
   "execution_count": 15,
   "outputs": []
  },
  {
   "metadata": {
    "ExecuteTime": {
     "end_time": "2024-05-02T21:13:43.095435Z",
     "start_time": "2024-05-02T21:13:43.075734Z"
    }
   },
   "cell_type": "code",
   "source": "diff = df_original[df_original['MUNICIPIO']=='Belo Horizonte']['TAXA_OBITOS_NOVOS_MEDIA_MOVEL_7_DIAS'] - df_noised[(df_noised['MUNICIPIO']=='Belo Horizonte') & (df_noised['AMOSTRA']==1)]['TAXA_OBITOS_NOVOS_MEDIA_MOVEL_7_DIAS_NOISED']",
   "execution_count": 16,
   "outputs": []
  },
  {
   "metadata": {
    "ExecuteTime": {
     "end_time": "2024-05-02T21:13:43.274945Z",
     "start_time": "2024-05-02T21:13:43.096931Z"
    }
   },
   "cell_type": "code",
   "source": [
    "import matplotlib.pyplot as plt\n",
    "\n",
    "plt.plot(diff, color='blue')\n",
    "plt.show()"
   ],
   "execution_count": 17,
   "outputs": []
  },
  {
   "metadata": {
    "ExecuteTime": {
     "end_time": "2024-05-02T21:13:43.310464Z",
     "start_time": "2024-05-02T21:13:43.276491Z"
    }
   },
   "cell_type": "code",
   "source": "df_noised[['MUNICIPIO','AMOSTRA']].drop_duplicates()",
   "execution_count": 18,
   "outputs": []
  },
  {
   "metadata": {},
   "cell_type": "markdown",
   "source": "## Concatenating with basic datasets"
  },
  {
   "metadata": {
    "ExecuteTime": {
     "end_time": "2024-05-02T21:13:47.761522Z",
     "start_time": "2024-05-02T21:13:43.311864Z"
    }
   },
   "cell_type": "code",
   "source": [
    "df_original_basic = pd.read_csv('data/df_original.csv')\n",
    "df_noised_basic = pd.read_csv('data/df_noised.csv')"
   ],
   "execution_count": 19,
   "outputs": []
  },
  {
   "metadata": {
    "ExecuteTime": {
     "end_time": "2024-05-02T21:13:48.628952Z",
     "start_time": "2024-05-02T21:13:47.762837Z"
    }
   },
   "cell_type": "code",
   "source": [
    "df_original = pd.concat([df_original_basic, df_original], ignore_index=True).reset_index(drop=True)\n",
    "df_noised = pd.concat([df_noised_basic, df_noised], ignore_index=True).reset_index(drop=True)"
   ],
   "execution_count": 20,
   "outputs": []
  },
  {
   "metadata": {},
   "cell_type": "markdown",
   "source": "## Saving data"
  },
  {
   "metadata": {
    "ExecuteTime": {
     "end_time": "2024-05-02T21:14:12.382111Z",
     "start_time": "2024-05-02T21:13:48.630353Z"
    }
   },
   "cell_type": "code",
   "source": [
    "df_original.to_csv('data/df_original_extended.csv', index=False)\n",
    "df_noised.to_csv('data/df_noised_extended.csv', index=False)"
   ],
   "execution_count": 21,
   "outputs": []
  },
  {
   "metadata": {
    "ExecuteTime": {
     "end_time": "2024-05-02T21:14:12.394754Z",
     "start_time": "2024-05-02T21:14:12.383318Z"
    }
   },
   "cell_type": "code",
   "source": "df_original['DATA'] = pd.to_datetime(df_original['DATA'])",
   "execution_count": 22,
   "outputs": []
  },
  {
   "metadata": {
    "ExecuteTime": {
     "end_time": "2024-05-02T21:14:12.419760Z",
     "start_time": "2024-05-02T21:14:12.396180Z"
    }
   },
   "cell_type": "code",
   "source": "df_original[df_original['MUNICIPIO']=='São Paulo']['DATA'].max()-df_original[df_original['MUNICIPIO']=='São Paulo']['DATA'].min()",
   "execution_count": 23,
   "outputs": []
  },
  {
   "metadata": {
    "ExecuteTime": {
     "end_time": "2024-05-02T21:14:12.451403Z",
     "start_time": "2024-05-02T21:14:12.421008Z"
    }
   },
   "cell_type": "code",
   "source": "df_original[df_original['MUNICIPIO']=='São Paulo']",
   "execution_count": 24,
   "outputs": []
  }
 ],
 "metadata": {
  "kernelspec": {
   "display_name": "Python 3",
   "language": "python",
   "name": "python3"
  },
  "language_info": {
   "codemirror_mode": {
    "name": "ipython",
    "version": 2
   },
   "file_extension": ".py",
   "mimetype": "text/x-python",
   "name": "python",
   "nbconvert_exporter": "python",
   "pygments_lexer": "ipython2",
   "version": "2.7.6"
  }
 },
 "nbformat": 4,
 "nbformat_minor": 0
}
