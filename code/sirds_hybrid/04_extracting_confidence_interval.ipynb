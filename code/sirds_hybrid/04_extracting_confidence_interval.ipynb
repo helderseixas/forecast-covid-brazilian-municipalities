{
 "cells": [
  {
   "cell_type": "markdown",
   "source": "# Analyzing the forecast confidence interval",
   "metadata": {
    "collapsed": false
   }
  },
  {
   "cell_type": "code",
   "metadata": {
    "collapsed": true,
    "ExecuteTime": {
     "end_time": "2024-08-03T02:38:40.748719Z",
     "start_time": "2024-08-03T02:38:40.745728Z"
    }
   },
   "source": [
    "import numpy as np\n",
    "import pandas as pd\n",
    "from code.util import calculate_confidence_interval"
   ],
   "outputs": [],
   "execution_count": 8
  },
  {
   "cell_type": "markdown",
   "source": [
    "## Reading data"
   ],
   "metadata": {
    "collapsed": false
   }
  },
  {
   "cell_type": "code",
   "source": [
    "df_forecasting = pd.read_csv('data/df_deaths_forecasted.csv')\n",
    "df_forecasting['max_date_to_fit'] = pd.to_datetime(df_forecasting['max_date_to_fit']) \n",
    "df_forecasting['date'] = pd.to_datetime(df_forecasting['date'])"
   ],
   "metadata": {
    "collapsed": false,
    "ExecuteTime": {
     "end_time": "2024-08-03T02:38:41.375334Z",
     "start_time": "2024-08-03T02:38:40.761281Z"
    }
   },
   "outputs": [],
   "execution_count": 9
  },
  {
   "cell_type": "markdown",
   "source": "## Calculating ",
   "metadata": {
    "collapsed": false
   }
  },
  {
   "metadata": {
    "ExecuteTime": {
     "end_time": "2024-08-03T02:38:41.380951Z",
     "start_time": "2024-08-03T02:38:41.376784Z"
    }
   },
   "cell_type": "code",
   "source": "df_forecasting.columns",
   "outputs": [
    {
     "data": {
      "text/plain": [
       "Index(['forecast', 'municipality', 'municipality_id', 'max_date_to_fit',\n",
       "       'estimation', 'date'],\n",
       "      dtype='object')"
      ]
     },
     "execution_count": 10,
     "metadata": {},
     "output_type": "execute_result"
    }
   ],
   "execution_count": 10
  },
  {
   "metadata": {
    "ExecuteTime": {
     "end_time": "2024-08-03T02:56:00.743440Z",
     "start_time": "2024-08-03T02:38:41.383030Z"
    }
   },
   "cell_type": "code",
   "source": [
    "df_confidence_interval = pd.DataFrame()\n",
    "for municipality in df_forecasting['municipality'].unique():    \n",
    "    df_municipality = df_forecasting.loc[df_forecasting['municipality'] == municipality]\n",
    "    df_municipality = df_municipality.sort_values('date')\n",
    "    municipality_id = df_municipality['municipality_id'].values[0]\n",
    "    for date in df_municipality['date'].unique():\n",
    "        df_municipality_date = df_municipality.loc[df_municipality['date'] == date]\n",
    "        max_date_to_fit = df_municipality_date['max_date_to_fit'].values[0]\n",
    "        forecast = df_municipality_date['forecast'].values\n",
    "        lower_bound, upper_bound = calculate_confidence_interval(forecast)\n",
    "        mean = np.mean(forecast)\n",
    "        entry = {'municipality': municipality, 'municipality_id': municipality_id, 'date': date, 'forecast': mean, 'lower_bound': lower_bound, 'upper_bound': upper_bound, 'max_date_to_fit': max_date_to_fit}\n",
    "        df_confidence_interval = pd.concat([df_confidence_interval, pd.DataFrame.from_records([entry])])"
   ],
   "outputs": [],
   "execution_count": 11
  },
  {
   "metadata": {},
   "cell_type": "markdown",
   "source": "## Saving data"
  },
  {
   "metadata": {
    "ExecuteTime": {
     "end_time": "2024-08-03T02:56:01.005389Z",
     "start_time": "2024-08-03T02:56:00.744993Z"
    }
   },
   "cell_type": "code",
   "source": "df_confidence_interval.to_csv('data/df_forecast_death_confidence_interval.csv')",
   "outputs": [],
   "execution_count": 12
  },
  {
   "metadata": {
    "ExecuteTime": {
     "end_time": "2024-08-03T02:56:01.020802Z",
     "start_time": "2024-08-03T02:56:01.006671Z"
    }
   },
   "cell_type": "code",
   "source": "df_confidence_interval",
   "outputs": [
    {
     "data": {
      "text/plain": [
       "        municipality  municipality_id       date  forecast  lower_bound  \\\n",
       "0            Aracaju         280030.0 2020-04-26  0.008257     0.008210   \n",
       "0            Aracaju         280030.0 2020-04-27  0.007751     0.007738   \n",
       "0            Aracaju         280030.0 2020-04-28  0.007350     0.007336   \n",
       "0            Aracaju         280030.0 2020-04-29  0.006967     0.006955   \n",
       "0            Aracaju         280030.0 2020-04-30  0.006604     0.006592   \n",
       "..               ...              ...        ...       ...          ...   \n",
       "0   Feira de Santana         291080.0 2022-05-17  0.091502     0.077191   \n",
       "0   Feira de Santana         291080.0 2022-05-18  0.091153     0.076114   \n",
       "0   Feira de Santana         291080.0 2022-05-19  0.090810     0.076681   \n",
       "0   Feira de Santana         291080.0 2022-05-20  0.090474     0.075991   \n",
       "0   Feira de Santana         291080.0 2022-05-21  0.090144     0.077051   \n",
       "\n",
       "    upper_bound max_date_to_fit  \n",
       "0      0.008308      2020-04-25  \n",
       "0      0.007765      2020-04-25  \n",
       "0      0.007365      2020-04-25  \n",
       "0      0.006980      2020-04-25  \n",
       "0      0.006617      2020-04-25  \n",
       "..          ...             ...  \n",
       "0      0.107882      2022-02-26  \n",
       "0      0.107640      2022-02-26  \n",
       "0      0.107273      2022-02-26  \n",
       "0      0.105715      2022-02-26  \n",
       "0      0.104262      2022-02-26  \n",
       "\n",
       "[30828 rows x 7 columns]"
      ],
      "text/html": [
       "<div>\n",
       "<style scoped>\n",
       "    .dataframe tbody tr th:only-of-type {\n",
       "        vertical-align: middle;\n",
       "    }\n",
       "\n",
       "    .dataframe tbody tr th {\n",
       "        vertical-align: top;\n",
       "    }\n",
       "\n",
       "    .dataframe thead th {\n",
       "        text-align: right;\n",
       "    }\n",
       "</style>\n",
       "<table border=\"1\" class=\"dataframe\">\n",
       "  <thead>\n",
       "    <tr style=\"text-align: right;\">\n",
       "      <th></th>\n",
       "      <th>municipality</th>\n",
       "      <th>municipality_id</th>\n",
       "      <th>date</th>\n",
       "      <th>forecast</th>\n",
       "      <th>lower_bound</th>\n",
       "      <th>upper_bound</th>\n",
       "      <th>max_date_to_fit</th>\n",
       "    </tr>\n",
       "  </thead>\n",
       "  <tbody>\n",
       "    <tr>\n",
       "      <th>0</th>\n",
       "      <td>Aracaju</td>\n",
       "      <td>280030.0</td>\n",
       "      <td>2020-04-26</td>\n",
       "      <td>0.008257</td>\n",
       "      <td>0.008210</td>\n",
       "      <td>0.008308</td>\n",
       "      <td>2020-04-25</td>\n",
       "    </tr>\n",
       "    <tr>\n",
       "      <th>0</th>\n",
       "      <td>Aracaju</td>\n",
       "      <td>280030.0</td>\n",
       "      <td>2020-04-27</td>\n",
       "      <td>0.007751</td>\n",
       "      <td>0.007738</td>\n",
       "      <td>0.007765</td>\n",
       "      <td>2020-04-25</td>\n",
       "    </tr>\n",
       "    <tr>\n",
       "      <th>0</th>\n",
       "      <td>Aracaju</td>\n",
       "      <td>280030.0</td>\n",
       "      <td>2020-04-28</td>\n",
       "      <td>0.007350</td>\n",
       "      <td>0.007336</td>\n",
       "      <td>0.007365</td>\n",
       "      <td>2020-04-25</td>\n",
       "    </tr>\n",
       "    <tr>\n",
       "      <th>0</th>\n",
       "      <td>Aracaju</td>\n",
       "      <td>280030.0</td>\n",
       "      <td>2020-04-29</td>\n",
       "      <td>0.006967</td>\n",
       "      <td>0.006955</td>\n",
       "      <td>0.006980</td>\n",
       "      <td>2020-04-25</td>\n",
       "    </tr>\n",
       "    <tr>\n",
       "      <th>0</th>\n",
       "      <td>Aracaju</td>\n",
       "      <td>280030.0</td>\n",
       "      <td>2020-04-30</td>\n",
       "      <td>0.006604</td>\n",
       "      <td>0.006592</td>\n",
       "      <td>0.006617</td>\n",
       "      <td>2020-04-25</td>\n",
       "    </tr>\n",
       "    <tr>\n",
       "      <th>...</th>\n",
       "      <td>...</td>\n",
       "      <td>...</td>\n",
       "      <td>...</td>\n",
       "      <td>...</td>\n",
       "      <td>...</td>\n",
       "      <td>...</td>\n",
       "      <td>...</td>\n",
       "    </tr>\n",
       "    <tr>\n",
       "      <th>0</th>\n",
       "      <td>Feira de Santana</td>\n",
       "      <td>291080.0</td>\n",
       "      <td>2022-05-17</td>\n",
       "      <td>0.091502</td>\n",
       "      <td>0.077191</td>\n",
       "      <td>0.107882</td>\n",
       "      <td>2022-02-26</td>\n",
       "    </tr>\n",
       "    <tr>\n",
       "      <th>0</th>\n",
       "      <td>Feira de Santana</td>\n",
       "      <td>291080.0</td>\n",
       "      <td>2022-05-18</td>\n",
       "      <td>0.091153</td>\n",
       "      <td>0.076114</td>\n",
       "      <td>0.107640</td>\n",
       "      <td>2022-02-26</td>\n",
       "    </tr>\n",
       "    <tr>\n",
       "      <th>0</th>\n",
       "      <td>Feira de Santana</td>\n",
       "      <td>291080.0</td>\n",
       "      <td>2022-05-19</td>\n",
       "      <td>0.090810</td>\n",
       "      <td>0.076681</td>\n",
       "      <td>0.107273</td>\n",
       "      <td>2022-02-26</td>\n",
       "    </tr>\n",
       "    <tr>\n",
       "      <th>0</th>\n",
       "      <td>Feira de Santana</td>\n",
       "      <td>291080.0</td>\n",
       "      <td>2022-05-20</td>\n",
       "      <td>0.090474</td>\n",
       "      <td>0.075991</td>\n",
       "      <td>0.105715</td>\n",
       "      <td>2022-02-26</td>\n",
       "    </tr>\n",
       "    <tr>\n",
       "      <th>0</th>\n",
       "      <td>Feira de Santana</td>\n",
       "      <td>291080.0</td>\n",
       "      <td>2022-05-21</td>\n",
       "      <td>0.090144</td>\n",
       "      <td>0.077051</td>\n",
       "      <td>0.104262</td>\n",
       "      <td>2022-02-26</td>\n",
       "    </tr>\n",
       "  </tbody>\n",
       "</table>\n",
       "<p>30828 rows × 7 columns</p>\n",
       "</div>"
      ]
     },
     "execution_count": 13,
     "metadata": {},
     "output_type": "execute_result"
    }
   ],
   "execution_count": 13
  },
  {
   "metadata": {
    "ExecuteTime": {
     "end_time": "2024-08-03T02:56:01.028190Z",
     "start_time": "2024-08-03T02:56:01.022386Z"
    }
   },
   "cell_type": "code",
   "source": "df_confidence_interval.columns",
   "outputs": [
    {
     "data": {
      "text/plain": [
       "Index(['municipality', 'municipality_id', 'date', 'forecast', 'lower_bound',\n",
       "       'upper_bound', 'max_date_to_fit'],\n",
       "      dtype='object')"
      ]
     },
     "execution_count": 14,
     "metadata": {},
     "output_type": "execute_result"
    }
   ],
   "execution_count": 14
  }
 ],
 "metadata": {
  "kernelspec": {
   "display_name": "Python 3",
   "language": "python",
   "name": "python3"
  },
  "language_info": {
   "codemirror_mode": {
    "name": "ipython",
    "version": 2
   },
   "file_extension": ".py",
   "mimetype": "text/x-python",
   "name": "python",
   "nbconvert_exporter": "python",
   "pygments_lexer": "ipython2",
   "version": "2.7.6"
  }
 },
 "nbformat": 4,
 "nbformat_minor": 0
}
