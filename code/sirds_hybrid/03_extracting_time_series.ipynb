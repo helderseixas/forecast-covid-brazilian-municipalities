{
 "cells": [
  {
   "cell_type": "markdown",
   "source": [
    "# Extracting the death forecasting time series"
   ],
   "metadata": {
    "collapsed": false
   }
  },
  {
   "cell_type": "code",
   "metadata": {
    "collapsed": true,
    "ExecuteTime": {
     "end_time": "2024-08-02T21:56:26.887511Z",
     "start_time": "2024-08-02T21:56:26.884800Z"
    }
   },
   "source": [
    "import pandas as pd\n",
    "\n",
    "from code.sirds.sirds_model_visualization import get_sirds, get_sirds_extras\n",
    "import datetime\n",
    "import numpy as np"
   ],
   "outputs": [],
   "execution_count": 18
  },
  {
   "cell_type": "markdown",
   "source": [
    "## Reading data"
   ],
   "metadata": {
    "collapsed": false
   }
  },
  {
   "cell_type": "code",
   "source": [
    "df_results = pd.read_csv('../sirds/data/estimation_results.csv')\n",
    "df_results['max_date_to_fit'] = pd.to_datetime(df_results['max_date_to_fit']) "
   ],
   "metadata": {
    "collapsed": false,
    "ExecuteTime": {
     "end_time": "2024-08-02T21:56:27.073511Z",
     "start_time": "2024-08-02T21:56:26.956156Z"
    }
   },
   "outputs": [],
   "execution_count": 19
  },
  {
   "cell_type": "code",
   "source": [
    "df_results = df_results.sort_values(['max_date_to_fit','municipality'])"
   ],
   "metadata": {
    "collapsed": false,
    "ExecuteTime": {
     "end_time": "2024-08-02T21:56:27.084771Z",
     "start_time": "2024-08-02T21:56:27.075900Z"
    }
   },
   "outputs": [],
   "execution_count": 20
  },
  {
   "cell_type": "code",
   "source": [
    "FORECASTING_HORIZON = 84"
   ],
   "metadata": {
    "collapsed": false,
    "ExecuteTime": {
     "end_time": "2024-08-02T21:56:27.090338Z",
     "start_time": "2024-08-02T21:56:27.087028Z"
    }
   },
   "outputs": [],
   "execution_count": 21
  },
  {
   "metadata": {
    "ExecuteTime": {
     "end_time": "2024-08-02T21:56:27.108591Z",
     "start_time": "2024-08-02T21:56:27.092532Z"
    }
   },
   "cell_type": "code",
   "source": [
    "df_estimated_parameters = pd.read_csv('data/df_estimated_parameters.csv')\n",
    "df_estimated_parameters['max_date_to_fit'] = pd.to_datetime(df_estimated_parameters['max_date_to_fit'])"
   ],
   "outputs": [],
   "execution_count": 22
  },
  {
   "cell_type": "markdown",
   "source": [
    "## Executing results"
   ],
   "metadata": {
    "collapsed": false
   }
  },
  {
   "cell_type": "code",
   "source": [
    "df_results"
   ],
   "metadata": {
    "collapsed": false,
    "ExecuteTime": {
     "end_time": "2024-08-02T21:56:27.155645Z",
     "start_time": "2024-08-02T21:56:27.109947Z"
    }
   },
   "outputs": [
    {
     "data": {
      "text/plain": [
       "      municipality_id max_date_to_fit municipality  estimation  result_fun  \\\n",
       "0            280030.0      2020-04-25      Aracaju         0.0    1.019098   \n",
       "244          280030.0      2020-04-25      Aracaju         1.0    1.023177   \n",
       "488          280030.0      2020-04-25      Aracaju         2.0    1.023987   \n",
       "732          280030.0      2020-04-25      Aracaju         3.0    1.016046   \n",
       "976          280030.0      2020-04-25      Aracaju         4.0    1.020951   \n",
       "...               ...             ...          ...         ...         ...   \n",
       "6847         317020.0      2022-02-26   Uberlândia        15.0    0.271926   \n",
       "6970         317020.0      2022-02-26   Uberlândia        16.0    0.284146   \n",
       "7093         317020.0      2022-02-26   Uberlândia        17.0    0.287858   \n",
       "7216         317020.0      2022-02-26   Uberlândia        18.0    0.273810   \n",
       "7339         317020.0      2022-02-26   Uberlândia        19.0    0.284542   \n",
       "\n",
       "      result_nfev  result_nit  result_success           start_time  \\\n",
       "0           936.0        15.0            True  2024-03-20 23:46:10   \n",
       "244         763.0        16.0            True  2024-03-22 08:38:04   \n",
       "488         518.0         9.0            True  2024-03-23 06:04:44   \n",
       "732        1034.0        13.0            True  2024-03-23 21:19:05   \n",
       "976         848.0        15.0            True  2024-03-24 11:56:02   \n",
       "...           ...         ...             ...                  ...   \n",
       "6847     264240.0      1187.0            True  2024-06-12 08:53:49   \n",
       "6970     243800.0      1099.0            True  2024-06-14 22:42:30   \n",
       "7093     192395.0       868.0            True  2024-06-17 12:46:29   \n",
       "7216     315580.0      1422.0            True  2024-06-20 00:32:47   \n",
       "7339     359025.0      1607.0            True  2024-06-22 15:40:17   \n",
       "\n",
       "                 end_time  ...  x_breakpoint_11  \\\n",
       "0     2024-03-20 23:46:13  ...              NaN   \n",
       "244   2024-03-22 08:38:05  ...              NaN   \n",
       "488   2024-03-23 06:04:44  ...              NaN   \n",
       "732   2024-03-23 21:19:07  ...              NaN   \n",
       "976   2024-03-24 11:56:03  ...              NaN   \n",
       "...                   ...  ...              ...   \n",
       "6847  2024-06-12 10:07:10  ...       569.928202   \n",
       "6970  2024-06-14 23:49:21  ...       565.697677   \n",
       "7093  2024-06-17 13:38:10  ...       568.291681   \n",
       "7216  2024-06-20 02:00:52  ...       567.257610   \n",
       "7339  2024-06-22 17:17:57  ...       566.172614   \n",
       "\n",
       "      x_transition_days_between_epidemic_periods_11  \\\n",
       "0                                               NaN   \n",
       "244                                             NaN   \n",
       "488                                             NaN   \n",
       "732                                             NaN   \n",
       "976                                             NaN   \n",
       "...                                             ...   \n",
       "6847                                      47.206719   \n",
       "6970                                      49.262054   \n",
       "7093                                      55.651519   \n",
       "7216                                      34.899812   \n",
       "7339                                      50.743910   \n",
       "\n",
       "      x_days_between_infections_12  x_breakpoint_12  \\\n",
       "0                              NaN              NaN   \n",
       "244                            NaN              NaN   \n",
       "488                            NaN              NaN   \n",
       "732                            NaN              NaN   \n",
       "976                            NaN              NaN   \n",
       "...                            ...              ...   \n",
       "6847                      3.824699       646.472339   \n",
       "6970                      3.792183       645.475261   \n",
       "7093                      3.698293       646.873019   \n",
       "7216                      3.846722       646.183331   \n",
       "7339                      3.761577       660.256779   \n",
       "\n",
       "      x_transition_days_between_epidemic_periods_12  \\\n",
       "0                                               NaN   \n",
       "244                                             NaN   \n",
       "488                                             NaN   \n",
       "732                                             NaN   \n",
       "976                                             NaN   \n",
       "...                                             ...   \n",
       "6847                                       8.005792   \n",
       "6970                                      21.852954   \n",
       "7093                                      18.736535   \n",
       "7216                                      23.282623   \n",
       "7339                                      30.918998   \n",
       "\n",
       "     x_case_fatality_probability_3 x_loss_immunity_in_days_3  \\\n",
       "0                              NaN                       NaN   \n",
       "244                            NaN                       NaN   \n",
       "488                            NaN                       NaN   \n",
       "732                            NaN                       NaN   \n",
       "976                            NaN                       NaN   \n",
       "...                            ...                       ...   \n",
       "6847                           NaN                       NaN   \n",
       "6970                           NaN                       NaN   \n",
       "7093                           NaN                       NaN   \n",
       "7216                           NaN                       NaN   \n",
       "7339                           NaN                       NaN   \n",
       "\n",
       "      x_days_between_infections_13  x_breakpoint_13  \\\n",
       "0                              NaN              NaN   \n",
       "244                            NaN              NaN   \n",
       "488                            NaN              NaN   \n",
       "732                            NaN              NaN   \n",
       "976                            NaN              NaN   \n",
       "...                            ...              ...   \n",
       "6847                           NaN              NaN   \n",
       "6970                           NaN              NaN   \n",
       "7093                           NaN              NaN   \n",
       "7216                           NaN              NaN   \n",
       "7339                           NaN              NaN   \n",
       "\n",
       "      x_transition_days_between_epidemic_periods_13  \n",
       "0                                               NaN  \n",
       "244                                             NaN  \n",
       "488                                             NaN  \n",
       "732                                             NaN  \n",
       "976                                             NaN  \n",
       "...                                             ...  \n",
       "6847                                            NaN  \n",
       "6970                                            NaN  \n",
       "7093                                            NaN  \n",
       "7216                                            NaN  \n",
       "7339                                            NaN  \n",
       "\n",
       "[7340 rows x 66 columns]"
      ],
      "text/html": [
       "<div>\n",
       "<style scoped>\n",
       "    .dataframe tbody tr th:only-of-type {\n",
       "        vertical-align: middle;\n",
       "    }\n",
       "\n",
       "    .dataframe tbody tr th {\n",
       "        vertical-align: top;\n",
       "    }\n",
       "\n",
       "    .dataframe thead th {\n",
       "        text-align: right;\n",
       "    }\n",
       "</style>\n",
       "<table border=\"1\" class=\"dataframe\">\n",
       "  <thead>\n",
       "    <tr style=\"text-align: right;\">\n",
       "      <th></th>\n",
       "      <th>municipality_id</th>\n",
       "      <th>max_date_to_fit</th>\n",
       "      <th>municipality</th>\n",
       "      <th>estimation</th>\n",
       "      <th>result_fun</th>\n",
       "      <th>result_nfev</th>\n",
       "      <th>result_nit</th>\n",
       "      <th>result_success</th>\n",
       "      <th>start_time</th>\n",
       "      <th>end_time</th>\n",
       "      <th>...</th>\n",
       "      <th>x_breakpoint_11</th>\n",
       "      <th>x_transition_days_between_epidemic_periods_11</th>\n",
       "      <th>x_days_between_infections_12</th>\n",
       "      <th>x_breakpoint_12</th>\n",
       "      <th>x_transition_days_between_epidemic_periods_12</th>\n",
       "      <th>x_case_fatality_probability_3</th>\n",
       "      <th>x_loss_immunity_in_days_3</th>\n",
       "      <th>x_days_between_infections_13</th>\n",
       "      <th>x_breakpoint_13</th>\n",
       "      <th>x_transition_days_between_epidemic_periods_13</th>\n",
       "    </tr>\n",
       "  </thead>\n",
       "  <tbody>\n",
       "    <tr>\n",
       "      <th>0</th>\n",
       "      <td>280030.0</td>\n",
       "      <td>2020-04-25</td>\n",
       "      <td>Aracaju</td>\n",
       "      <td>0.0</td>\n",
       "      <td>1.019098</td>\n",
       "      <td>936.0</td>\n",
       "      <td>15.0</td>\n",
       "      <td>True</td>\n",
       "      <td>2024-03-20 23:46:10</td>\n",
       "      <td>2024-03-20 23:46:13</td>\n",
       "      <td>...</td>\n",
       "      <td>NaN</td>\n",
       "      <td>NaN</td>\n",
       "      <td>NaN</td>\n",
       "      <td>NaN</td>\n",
       "      <td>NaN</td>\n",
       "      <td>NaN</td>\n",
       "      <td>NaN</td>\n",
       "      <td>NaN</td>\n",
       "      <td>NaN</td>\n",
       "      <td>NaN</td>\n",
       "    </tr>\n",
       "    <tr>\n",
       "      <th>244</th>\n",
       "      <td>280030.0</td>\n",
       "      <td>2020-04-25</td>\n",
       "      <td>Aracaju</td>\n",
       "      <td>1.0</td>\n",
       "      <td>1.023177</td>\n",
       "      <td>763.0</td>\n",
       "      <td>16.0</td>\n",
       "      <td>True</td>\n",
       "      <td>2024-03-22 08:38:04</td>\n",
       "      <td>2024-03-22 08:38:05</td>\n",
       "      <td>...</td>\n",
       "      <td>NaN</td>\n",
       "      <td>NaN</td>\n",
       "      <td>NaN</td>\n",
       "      <td>NaN</td>\n",
       "      <td>NaN</td>\n",
       "      <td>NaN</td>\n",
       "      <td>NaN</td>\n",
       "      <td>NaN</td>\n",
       "      <td>NaN</td>\n",
       "      <td>NaN</td>\n",
       "    </tr>\n",
       "    <tr>\n",
       "      <th>488</th>\n",
       "      <td>280030.0</td>\n",
       "      <td>2020-04-25</td>\n",
       "      <td>Aracaju</td>\n",
       "      <td>2.0</td>\n",
       "      <td>1.023987</td>\n",
       "      <td>518.0</td>\n",
       "      <td>9.0</td>\n",
       "      <td>True</td>\n",
       "      <td>2024-03-23 06:04:44</td>\n",
       "      <td>2024-03-23 06:04:44</td>\n",
       "      <td>...</td>\n",
       "      <td>NaN</td>\n",
       "      <td>NaN</td>\n",
       "      <td>NaN</td>\n",
       "      <td>NaN</td>\n",
       "      <td>NaN</td>\n",
       "      <td>NaN</td>\n",
       "      <td>NaN</td>\n",
       "      <td>NaN</td>\n",
       "      <td>NaN</td>\n",
       "      <td>NaN</td>\n",
       "    </tr>\n",
       "    <tr>\n",
       "      <th>732</th>\n",
       "      <td>280030.0</td>\n",
       "      <td>2020-04-25</td>\n",
       "      <td>Aracaju</td>\n",
       "      <td>3.0</td>\n",
       "      <td>1.016046</td>\n",
       "      <td>1034.0</td>\n",
       "      <td>13.0</td>\n",
       "      <td>True</td>\n",
       "      <td>2024-03-23 21:19:05</td>\n",
       "      <td>2024-03-23 21:19:07</td>\n",
       "      <td>...</td>\n",
       "      <td>NaN</td>\n",
       "      <td>NaN</td>\n",
       "      <td>NaN</td>\n",
       "      <td>NaN</td>\n",
       "      <td>NaN</td>\n",
       "      <td>NaN</td>\n",
       "      <td>NaN</td>\n",
       "      <td>NaN</td>\n",
       "      <td>NaN</td>\n",
       "      <td>NaN</td>\n",
       "    </tr>\n",
       "    <tr>\n",
       "      <th>976</th>\n",
       "      <td>280030.0</td>\n",
       "      <td>2020-04-25</td>\n",
       "      <td>Aracaju</td>\n",
       "      <td>4.0</td>\n",
       "      <td>1.020951</td>\n",
       "      <td>848.0</td>\n",
       "      <td>15.0</td>\n",
       "      <td>True</td>\n",
       "      <td>2024-03-24 11:56:02</td>\n",
       "      <td>2024-03-24 11:56:03</td>\n",
       "      <td>...</td>\n",
       "      <td>NaN</td>\n",
       "      <td>NaN</td>\n",
       "      <td>NaN</td>\n",
       "      <td>NaN</td>\n",
       "      <td>NaN</td>\n",
       "      <td>NaN</td>\n",
       "      <td>NaN</td>\n",
       "      <td>NaN</td>\n",
       "      <td>NaN</td>\n",
       "      <td>NaN</td>\n",
       "    </tr>\n",
       "    <tr>\n",
       "      <th>...</th>\n",
       "      <td>...</td>\n",
       "      <td>...</td>\n",
       "      <td>...</td>\n",
       "      <td>...</td>\n",
       "      <td>...</td>\n",
       "      <td>...</td>\n",
       "      <td>...</td>\n",
       "      <td>...</td>\n",
       "      <td>...</td>\n",
       "      <td>...</td>\n",
       "      <td>...</td>\n",
       "      <td>...</td>\n",
       "      <td>...</td>\n",
       "      <td>...</td>\n",
       "      <td>...</td>\n",
       "      <td>...</td>\n",
       "      <td>...</td>\n",
       "      <td>...</td>\n",
       "      <td>...</td>\n",
       "      <td>...</td>\n",
       "      <td>...</td>\n",
       "    </tr>\n",
       "    <tr>\n",
       "      <th>6847</th>\n",
       "      <td>317020.0</td>\n",
       "      <td>2022-02-26</td>\n",
       "      <td>Uberlândia</td>\n",
       "      <td>15.0</td>\n",
       "      <td>0.271926</td>\n",
       "      <td>264240.0</td>\n",
       "      <td>1187.0</td>\n",
       "      <td>True</td>\n",
       "      <td>2024-06-12 08:53:49</td>\n",
       "      <td>2024-06-12 10:07:10</td>\n",
       "      <td>...</td>\n",
       "      <td>569.928202</td>\n",
       "      <td>47.206719</td>\n",
       "      <td>3.824699</td>\n",
       "      <td>646.472339</td>\n",
       "      <td>8.005792</td>\n",
       "      <td>NaN</td>\n",
       "      <td>NaN</td>\n",
       "      <td>NaN</td>\n",
       "      <td>NaN</td>\n",
       "      <td>NaN</td>\n",
       "    </tr>\n",
       "    <tr>\n",
       "      <th>6970</th>\n",
       "      <td>317020.0</td>\n",
       "      <td>2022-02-26</td>\n",
       "      <td>Uberlândia</td>\n",
       "      <td>16.0</td>\n",
       "      <td>0.284146</td>\n",
       "      <td>243800.0</td>\n",
       "      <td>1099.0</td>\n",
       "      <td>True</td>\n",
       "      <td>2024-06-14 22:42:30</td>\n",
       "      <td>2024-06-14 23:49:21</td>\n",
       "      <td>...</td>\n",
       "      <td>565.697677</td>\n",
       "      <td>49.262054</td>\n",
       "      <td>3.792183</td>\n",
       "      <td>645.475261</td>\n",
       "      <td>21.852954</td>\n",
       "      <td>NaN</td>\n",
       "      <td>NaN</td>\n",
       "      <td>NaN</td>\n",
       "      <td>NaN</td>\n",
       "      <td>NaN</td>\n",
       "    </tr>\n",
       "    <tr>\n",
       "      <th>7093</th>\n",
       "      <td>317020.0</td>\n",
       "      <td>2022-02-26</td>\n",
       "      <td>Uberlândia</td>\n",
       "      <td>17.0</td>\n",
       "      <td>0.287858</td>\n",
       "      <td>192395.0</td>\n",
       "      <td>868.0</td>\n",
       "      <td>True</td>\n",
       "      <td>2024-06-17 12:46:29</td>\n",
       "      <td>2024-06-17 13:38:10</td>\n",
       "      <td>...</td>\n",
       "      <td>568.291681</td>\n",
       "      <td>55.651519</td>\n",
       "      <td>3.698293</td>\n",
       "      <td>646.873019</td>\n",
       "      <td>18.736535</td>\n",
       "      <td>NaN</td>\n",
       "      <td>NaN</td>\n",
       "      <td>NaN</td>\n",
       "      <td>NaN</td>\n",
       "      <td>NaN</td>\n",
       "    </tr>\n",
       "    <tr>\n",
       "      <th>7216</th>\n",
       "      <td>317020.0</td>\n",
       "      <td>2022-02-26</td>\n",
       "      <td>Uberlândia</td>\n",
       "      <td>18.0</td>\n",
       "      <td>0.273810</td>\n",
       "      <td>315580.0</td>\n",
       "      <td>1422.0</td>\n",
       "      <td>True</td>\n",
       "      <td>2024-06-20 00:32:47</td>\n",
       "      <td>2024-06-20 02:00:52</td>\n",
       "      <td>...</td>\n",
       "      <td>567.257610</td>\n",
       "      <td>34.899812</td>\n",
       "      <td>3.846722</td>\n",
       "      <td>646.183331</td>\n",
       "      <td>23.282623</td>\n",
       "      <td>NaN</td>\n",
       "      <td>NaN</td>\n",
       "      <td>NaN</td>\n",
       "      <td>NaN</td>\n",
       "      <td>NaN</td>\n",
       "    </tr>\n",
       "    <tr>\n",
       "      <th>7339</th>\n",
       "      <td>317020.0</td>\n",
       "      <td>2022-02-26</td>\n",
       "      <td>Uberlândia</td>\n",
       "      <td>19.0</td>\n",
       "      <td>0.284542</td>\n",
       "      <td>359025.0</td>\n",
       "      <td>1607.0</td>\n",
       "      <td>True</td>\n",
       "      <td>2024-06-22 15:40:17</td>\n",
       "      <td>2024-06-22 17:17:57</td>\n",
       "      <td>...</td>\n",
       "      <td>566.172614</td>\n",
       "      <td>50.743910</td>\n",
       "      <td>3.761577</td>\n",
       "      <td>660.256779</td>\n",
       "      <td>30.918998</td>\n",
       "      <td>NaN</td>\n",
       "      <td>NaN</td>\n",
       "      <td>NaN</td>\n",
       "      <td>NaN</td>\n",
       "      <td>NaN</td>\n",
       "    </tr>\n",
       "  </tbody>\n",
       "</table>\n",
       "<p>7340 rows × 66 columns</p>\n",
       "</div>"
      ]
     },
     "execution_count": 23,
     "metadata": {},
     "output_type": "execute_result"
    }
   ],
   "execution_count": 23
  },
  {
   "cell_type": "code",
   "source": [
    "df_deaths_forecasted = pd.DataFrame()\n",
    "df_simulations = pd.DataFrame()\n",
    "delta = datetime.timedelta(days=1)\n",
    "\n",
    "for max_date_to_fit in df_results['max_date_to_fit'].unique()[:]:\n",
    "    df_results_max_data_to_fit = df_results.loc[df_results['max_date_to_fit'] == max_date_to_fit]\n",
    "    date_list_forecasting = [pd.to_datetime(max_date_to_fit) + (delta * (i + 1)) for i in range(FORECASTING_HORIZON)]    \n",
    "    for id_municipality in df_results_max_data_to_fit.municipality_id.unique():        \n",
    "        df_results_municipality = df_results_max_data_to_fit.loc[df_results_max_data_to_fit.municipality_id == id_municipality]\n",
    "        municipality = df_results_municipality.municipality.iloc[0]\n",
    "    \n",
    "        for index, result in df_results_municipality.iterrows():\n",
    "            result = result.dropna()\n",
    "            \n",
    "            estimation = result.estimation\n",
    "                        \n",
    "            estimated_parameters = df_estimated_parameters.loc[(df_estimated_parameters['municipality_id']==id_municipality) & (df_estimated_parameters['max_date_to_fit']==max_date_to_fit) & (df_estimated_parameters['estimation']==estimation)].iloc[0]\n",
    "            estimate_fatality_in_forecast_period = estimated_parameters['estimated_fatality']\n",
    "            estimated_contact_rate_in_forecast_period = estimated_parameters['estimated_contact_rate']\n",
    "            if np.isnan(estimated_contact_rate_in_forecast_period):\n",
    "                estimated_contact_rate_in_forecast_period = None\n",
    "                estimated_days_between_infections_in_forecast_period = None\n",
    "            else:\n",
    "                estimated_days_between_infections_in_forecast_period = 1 / estimated_contact_rate_in_forecast_period\n",
    "            \n",
    "            if np.isnan(estimate_fatality_in_forecast_period):\n",
    "                estimate_fatality_in_forecast_period = None\n",
    "            \n",
    "            date_first_case = pd.to_datetime(result.date_first_case)\n",
    "            days_to_recovery = result.days_to_recovery\n",
    "            period_in_days_to_fit = int(result.period_in_days)\n",
    "            period_in_days_general = period_in_days_to_fit + FORECASTING_HORIZON\n",
    "    \n",
    "            y = get_sirds(result, forecast_horizon=FORECASTING_HORIZON, contact_rate_in_forecast_period=estimated_contact_rate_in_forecast_period, fatality_in_forecast_period=estimate_fatality_in_forecast_period)\n",
    "            S, I, R, D, I_accumulated = y\n",
    "            N = S[0] + I[0] + R[0] + D[0]\n",
    "    \n",
    "            D_new_deaths, reproduction_number_sird, I_new_cases, epidemic_periods_with_fast_transition_fuzzy_variable, epidemic_periods_with_slow_transition_fuzzy_variable, days_between_infections_values, case_fatality_probability_values, loss_immunity_in_days_values, estimated_days_between_infections, estimated_case_fatality_probability, estimated_loss_immunity_in_days = get_sirds_extras(result, S, D, I_accumulated, forecast_horizon=FORECASTING_HORIZON, estimated_days_between_infections_in_forecast_period=estimated_days_between_infections_in_forecast_period, estimated_fatality_in_forecast_period=estimate_fatality_in_forecast_period)\n",
    "                            \n",
    "            forecast = D_new_deaths[-FORECASTING_HORIZON:]\n",
    "            df_forecasting_municipality = pd.DataFrame()\n",
    "            df_forecasting_municipality['forecast'] = forecast\n",
    "            df_forecasting_municipality['municipality'] = municipality\n",
    "            df_forecasting_municipality['municipality_id'] = id_municipality\n",
    "            df_forecasting_municipality['max_date_to_fit'] = max_date_to_fit\n",
    "            df_forecasting_municipality['estimation'] = estimation            \n",
    "            df_forecasting_municipality['date'] = date_list_forecasting\n",
    "            df_deaths_forecasted = pd.concat([df_deaths_forecasted, df_forecasting_municipality])\n",
    "            \n",
    "            df_simulation = pd.DataFrame()\n",
    "            df_simulation['S'] = S[1:]\n",
    "            df_simulation['I'] = I[1:]\n",
    "            df_simulation['R'] = R[1:]\n",
    "            df_simulation['D_new_deaths'] = D_new_deaths\n",
    "            df_simulation['effective_reproduction_number'] = reproduction_number_sird[1:]\n",
    "            R0 = days_to_recovery/estimated_days_between_infections\n",
    "            df_simulation['basic_reproduction_number'] = R0[1:]\n",
    "            df_simulation['infection_fatality_rate'] = estimated_case_fatality_probability[1:]\n",
    "            date_list_simulation = [pd.to_datetime(date_first_case) + (delta * (i + 1)) for i in range(period_in_days_general-1)]\n",
    "            df_simulation['date'] = date_list_simulation\n",
    "            df_simulation['municipality'] = municipality\n",
    "            df_simulation['municipality_id'] = id_municipality\n",
    "            df_simulation['max_date_to_fit'] = max_date_to_fit\n",
    "            df_simulation['estimation'] = estimation                \n",
    "            df_simulations = pd.concat([df_simulations, df_simulation])"
   ],
   "metadata": {
    "collapsed": false,
    "ExecuteTime": {
     "end_time": "2024-08-02T22:15:26.918341Z",
     "start_time": "2024-08-02T21:56:27.157708Z"
    }
   },
   "outputs": [],
   "execution_count": 24
  },
  {
   "metadata": {
    "ExecuteTime": {
     "end_time": "2024-08-02T22:15:26.922751Z",
     "start_time": "2024-08-02T22:15:26.919592Z"
    }
   },
   "cell_type": "code",
   "source": "municipality",
   "outputs": [
    {
     "data": {
      "text/plain": [
       "'Uberlândia'"
      ]
     },
     "execution_count": 25,
     "metadata": {},
     "output_type": "execute_result"
    }
   ],
   "execution_count": 25
  },
  {
   "metadata": {
    "ExecuteTime": {
     "end_time": "2024-08-02T22:15:26.931080Z",
     "start_time": "2024-08-02T22:15:26.925446Z"
    }
   },
   "cell_type": "code",
   "source": "result",
   "outputs": [
    {
     "data": {
      "text/plain": [
       "municipality_id                                             317020.0\n",
       "max_date_to_fit                                  2022-02-26 00:00:00\n",
       "municipality                                              Uberlândia\n",
       "estimation                                                      19.0\n",
       "result_fun                                                  0.284542\n",
       "                                                        ...         \n",
       "x_breakpoint_11                                           566.172614\n",
       "x_transition_days_between_epidemic_periods_11               50.74391\n",
       "x_days_between_infections_12                                3.761577\n",
       "x_breakpoint_12                                           660.256779\n",
       "x_transition_days_between_epidemic_periods_12              30.918998\n",
       "Name: 7339, Length: 61, dtype: object"
      ]
     },
     "execution_count": 26,
     "metadata": {},
     "output_type": "execute_result"
    }
   ],
   "execution_count": 26
  },
  {
   "metadata": {
    "ExecuteTime": {
     "end_time": "2024-08-02T22:15:26.936836Z",
     "start_time": "2024-08-02T22:15:26.932661Z"
    }
   },
   "cell_type": "code",
   "source": "len(D_new_deaths)",
   "outputs": [
    {
     "data": {
      "text/plain": [
       "812"
      ]
     },
     "execution_count": 27,
     "metadata": {},
     "output_type": "execute_result"
    }
   ],
   "execution_count": 27
  },
  {
   "metadata": {
    "ExecuteTime": {
     "end_time": "2024-08-02T22:15:26.942804Z",
     "start_time": "2024-08-02T22:15:26.938150Z"
    }
   },
   "cell_type": "code",
   "source": "len(estimated_days_between_infections)",
   "outputs": [
    {
     "data": {
      "text/plain": [
       "813"
      ]
     },
     "execution_count": 28,
     "metadata": {},
     "output_type": "execute_result"
    }
   ],
   "execution_count": 28
  },
  {
   "metadata": {
    "ExecuteTime": {
     "end_time": "2024-08-02T22:15:26.949104Z",
     "start_time": "2024-08-02T22:15:26.944265Z"
    }
   },
   "cell_type": "code",
   "source": "max_date_to_fit",
   "outputs": [
    {
     "data": {
      "text/plain": [
       "Timestamp('2022-02-26 00:00:00')"
      ]
     },
     "execution_count": 29,
     "metadata": {},
     "output_type": "execute_result"
    }
   ],
   "execution_count": 29
  },
  {
   "metadata": {
    "ExecuteTime": {
     "end_time": "2024-08-02T22:15:26.955294Z",
     "start_time": "2024-08-02T22:15:26.950567Z"
    }
   },
   "cell_type": "code",
   "source": "type(estimated_days_between_infections_in_forecast_period)",
   "outputs": [
    {
     "data": {
      "text/plain": [
       "numpy.float64"
      ]
     },
     "execution_count": 30,
     "metadata": {},
     "output_type": "execute_result"
    }
   ],
   "execution_count": 30
  },
  {
   "metadata": {
    "ExecuteTime": {
     "end_time": "2024-08-02T22:15:26.973771Z",
     "start_time": "2024-08-02T22:15:26.956927Z"
    }
   },
   "cell_type": "code",
   "source": "df_deaths_forecasted",
   "outputs": [
    {
     "data": {
      "text/plain": [
       "    forecast municipality  municipality_id max_date_to_fit  estimation  \\\n",
       "0   0.008211      Aracaju         280030.0      2020-04-25         0.0   \n",
       "1   0.007756      Aracaju         280030.0      2020-04-25         0.0   \n",
       "2   0.007353      Aracaju         280030.0      2020-04-25         0.0   \n",
       "3   0.006966      Aracaju         280030.0      2020-04-25         0.0   \n",
       "4   0.006600      Aracaju         280030.0      2020-04-25         0.0   \n",
       "..       ...          ...              ...             ...         ...   \n",
       "79  0.377302   Uberlândia         317020.0      2022-02-26        19.0   \n",
       "80  0.377592   Uberlândia         317020.0      2022-02-26        19.0   \n",
       "81  0.377843   Uberlândia         317020.0      2022-02-26        19.0   \n",
       "82  0.378048   Uberlândia         317020.0      2022-02-26        19.0   \n",
       "83  0.378208   Uberlândia         317020.0      2022-02-26        19.0   \n",
       "\n",
       "         date  \n",
       "0  2020-04-26  \n",
       "1  2020-04-27  \n",
       "2  2020-04-28  \n",
       "3  2020-04-29  \n",
       "4  2020-04-30  \n",
       "..        ...  \n",
       "79 2022-05-17  \n",
       "80 2022-05-18  \n",
       "81 2022-05-19  \n",
       "82 2022-05-20  \n",
       "83 2022-05-21  \n",
       "\n",
       "[616560 rows x 6 columns]"
      ],
      "text/html": [
       "<div>\n",
       "<style scoped>\n",
       "    .dataframe tbody tr th:only-of-type {\n",
       "        vertical-align: middle;\n",
       "    }\n",
       "\n",
       "    .dataframe tbody tr th {\n",
       "        vertical-align: top;\n",
       "    }\n",
       "\n",
       "    .dataframe thead th {\n",
       "        text-align: right;\n",
       "    }\n",
       "</style>\n",
       "<table border=\"1\" class=\"dataframe\">\n",
       "  <thead>\n",
       "    <tr style=\"text-align: right;\">\n",
       "      <th></th>\n",
       "      <th>forecast</th>\n",
       "      <th>municipality</th>\n",
       "      <th>municipality_id</th>\n",
       "      <th>max_date_to_fit</th>\n",
       "      <th>estimation</th>\n",
       "      <th>date</th>\n",
       "    </tr>\n",
       "  </thead>\n",
       "  <tbody>\n",
       "    <tr>\n",
       "      <th>0</th>\n",
       "      <td>0.008211</td>\n",
       "      <td>Aracaju</td>\n",
       "      <td>280030.0</td>\n",
       "      <td>2020-04-25</td>\n",
       "      <td>0.0</td>\n",
       "      <td>2020-04-26</td>\n",
       "    </tr>\n",
       "    <tr>\n",
       "      <th>1</th>\n",
       "      <td>0.007756</td>\n",
       "      <td>Aracaju</td>\n",
       "      <td>280030.0</td>\n",
       "      <td>2020-04-25</td>\n",
       "      <td>0.0</td>\n",
       "      <td>2020-04-27</td>\n",
       "    </tr>\n",
       "    <tr>\n",
       "      <th>2</th>\n",
       "      <td>0.007353</td>\n",
       "      <td>Aracaju</td>\n",
       "      <td>280030.0</td>\n",
       "      <td>2020-04-25</td>\n",
       "      <td>0.0</td>\n",
       "      <td>2020-04-28</td>\n",
       "    </tr>\n",
       "    <tr>\n",
       "      <th>3</th>\n",
       "      <td>0.006966</td>\n",
       "      <td>Aracaju</td>\n",
       "      <td>280030.0</td>\n",
       "      <td>2020-04-25</td>\n",
       "      <td>0.0</td>\n",
       "      <td>2020-04-29</td>\n",
       "    </tr>\n",
       "    <tr>\n",
       "      <th>4</th>\n",
       "      <td>0.006600</td>\n",
       "      <td>Aracaju</td>\n",
       "      <td>280030.0</td>\n",
       "      <td>2020-04-25</td>\n",
       "      <td>0.0</td>\n",
       "      <td>2020-04-30</td>\n",
       "    </tr>\n",
       "    <tr>\n",
       "      <th>...</th>\n",
       "      <td>...</td>\n",
       "      <td>...</td>\n",
       "      <td>...</td>\n",
       "      <td>...</td>\n",
       "      <td>...</td>\n",
       "      <td>...</td>\n",
       "    </tr>\n",
       "    <tr>\n",
       "      <th>79</th>\n",
       "      <td>0.377302</td>\n",
       "      <td>Uberlândia</td>\n",
       "      <td>317020.0</td>\n",
       "      <td>2022-02-26</td>\n",
       "      <td>19.0</td>\n",
       "      <td>2022-05-17</td>\n",
       "    </tr>\n",
       "    <tr>\n",
       "      <th>80</th>\n",
       "      <td>0.377592</td>\n",
       "      <td>Uberlândia</td>\n",
       "      <td>317020.0</td>\n",
       "      <td>2022-02-26</td>\n",
       "      <td>19.0</td>\n",
       "      <td>2022-05-18</td>\n",
       "    </tr>\n",
       "    <tr>\n",
       "      <th>81</th>\n",
       "      <td>0.377843</td>\n",
       "      <td>Uberlândia</td>\n",
       "      <td>317020.0</td>\n",
       "      <td>2022-02-26</td>\n",
       "      <td>19.0</td>\n",
       "      <td>2022-05-19</td>\n",
       "    </tr>\n",
       "    <tr>\n",
       "      <th>82</th>\n",
       "      <td>0.378048</td>\n",
       "      <td>Uberlândia</td>\n",
       "      <td>317020.0</td>\n",
       "      <td>2022-02-26</td>\n",
       "      <td>19.0</td>\n",
       "      <td>2022-05-20</td>\n",
       "    </tr>\n",
       "    <tr>\n",
       "      <th>83</th>\n",
       "      <td>0.378208</td>\n",
       "      <td>Uberlândia</td>\n",
       "      <td>317020.0</td>\n",
       "      <td>2022-02-26</td>\n",
       "      <td>19.0</td>\n",
       "      <td>2022-05-21</td>\n",
       "    </tr>\n",
       "  </tbody>\n",
       "</table>\n",
       "<p>616560 rows × 6 columns</p>\n",
       "</div>"
      ]
     },
     "execution_count": 31,
     "metadata": {},
     "output_type": "execute_result"
    }
   ],
   "execution_count": 31
  },
  {
   "metadata": {},
   "cell_type": "markdown",
   "source": "## Saving data"
  },
  {
   "metadata": {},
   "cell_type": "markdown",
   "source": "### Forecasted deaths "
  },
  {
   "cell_type": "code",
   "source": "df_deaths_forecasted.to_csv('data/df_deaths_forecasted.csv', index=False)",
   "metadata": {
    "collapsed": false,
    "ExecuteTime": {
     "end_time": "2024-08-02T22:15:29.999583Z",
     "start_time": "2024-08-02T22:15:26.975326Z"
    }
   },
   "outputs": [],
   "execution_count": 32
  },
  {
   "cell_type": "code",
   "source": [
    "df_forecasting_mean = df_deaths_forecasted.groupby(['municipality','municipality_id','max_date_to_fit','date'])['forecast'].mean().reset_index()\n",
    "df_forecasting_mean.to_csv('data/df_deaths_forecasted_mean.csv')"
   ],
   "metadata": {
    "collapsed": false,
    "ExecuteTime": {
     "end_time": "2024-08-02T22:15:30.188666Z",
     "start_time": "2024-08-02T22:15:30.000621Z"
    }
   },
   "outputs": [],
   "execution_count": 33
  },
  {
   "metadata": {},
   "cell_type": "markdown",
   "source": "### Simulated time series"
  },
  {
   "metadata": {
    "ExecuteTime": {
     "end_time": "2024-08-02T22:16:11.561498Z",
     "start_time": "2024-08-02T22:15:30.189693Z"
    }
   },
   "cell_type": "code",
   "source": [
    "df_simulations.to_csv('data/df_simulations.csv', index=False)\n",
    "df_simulations_mean = df_simulations.drop(columns=['estimation']).groupby(['municipality','municipality_id','max_date_to_fit','date']).mean().reset_index()\n",
    "df_simulations_mean.to_csv('data/df_simulations_mean.csv', index=False)"
   ],
   "outputs": [],
   "execution_count": 34
  }
 ],
 "metadata": {
  "kernelspec": {
   "display_name": "Python 3",
   "language": "python",
   "name": "python3"
  },
  "language_info": {
   "codemirror_mode": {
    "name": "ipython",
    "version": 2
   },
   "file_extension": ".py",
   "mimetype": "text/x-python",
   "name": "python",
   "nbconvert_exporter": "python",
   "pygments_lexer": "ipython2",
   "version": "2.7.6"
  }
 },
 "nbformat": 4,
 "nbformat_minor": 0
}
