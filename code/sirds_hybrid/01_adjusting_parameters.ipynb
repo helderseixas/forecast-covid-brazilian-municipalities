{
 "cells": [
  {
   "metadata": {},
   "cell_type": "markdown",
   "source": "# Estimating parameters from univariate LSTM model and Fuzzy SIRDS ",
   "id": "d59915fe68aada64"
  },
  {
   "cell_type": "code",
   "id": "initial_id",
   "metadata": {
    "collapsed": true,
    "ExecuteTime": {
     "end_time": "2024-08-02T21:07:07.820407Z",
     "start_time": "2024-08-02T21:07:07.817324Z"
    }
   },
   "source": [
    "import epyestim\n",
    "import numpy as np\n",
    "import pandas as pd\n",
    "from epyestim import covid19\n",
    "from scipy.stats import gamma, lognorm\n",
    "from math import exp"
   ],
   "outputs": [],
   "execution_count": 4
  },
  {
   "metadata": {},
   "cell_type": "markdown",
   "source": "## Loading data",
   "id": "d199cd253e0ebb7b"
  },
  {
   "metadata": {
    "ExecuteTime": {
     "end_time": "2024-08-02T21:07:16.311620Z",
     "start_time": "2024-08-02T21:07:07.911045Z"
    }
   },
   "cell_type": "code",
   "source": [
    "df_output_lstm = pd.read_csv('../lstm/data/df_forecasting_mean.csv', index_col=0)\n",
    "df_output_lstm['date'] = pd.to_datetime(df_output_lstm['date'])\n",
    "df_output_lstm['max_date_to_fit'] = pd.to_datetime(df_output_lstm['max_date_to_fit'])\n",
    "df_output_sirds = pd.read_csv('../sirds/data/df_simulations.csv')\n",
    "df_output_sirds['date'] = pd.to_datetime(df_output_sirds['date'])\n",
    "df_output_sirds['max_date_to_fit'] = pd.to_datetime(df_output_sirds['max_date_to_fit'])"
   ],
   "id": "9db080783dd559d4",
   "outputs": [],
   "execution_count": 5
  },
  {
   "metadata": {
    "ExecuteTime": {
     "end_time": "2024-08-02T21:07:16.523753Z",
     "start_time": "2024-08-02T21:07:16.312768Z"
    }
   },
   "cell_type": "code",
   "source": [
    "df_original = pd.read_csv('../data/df_original_extended.csv')\n",
    "df_original.DATA = pd.to_datetime(df_original.DATA, format='mixed')"
   ],
   "id": "4f7499a1166e0e94",
   "outputs": [],
   "execution_count": 6
  },
  {
   "metadata": {},
   "cell_type": "markdown",
   "source": "## Estimating",
   "id": "4b4c71ca8bbb5ef8"
  },
  {
   "metadata": {
    "ExecuteTime": {
     "end_time": "2024-08-02T21:07:16.547637Z",
     "start_time": "2024-08-02T21:07:16.525509Z"
    }
   },
   "cell_type": "code",
   "source": "df_output_lstm",
   "id": "5c6bfaa0dc105080",
   "outputs": [
    {
     "data": {
      "text/plain": [
       "               municipality  municipality_id max_date_to_fit       date  \\\n",
       "0      Aparecida de Goiânia           520140      2020-04-25 2020-04-26   \n",
       "1      Aparecida de Goiânia           520140      2020-04-25 2020-04-27   \n",
       "2      Aparecida de Goiânia           520140      2020-04-25 2020-04-28   \n",
       "3      Aparecida de Goiânia           520140      2020-04-25 2020-04-29   \n",
       "4      Aparecida de Goiânia           520140      2020-04-25 2020-04-30   \n",
       "...                     ...              ...             ...        ...   \n",
       "24103            Uberlândia           317020      2022-02-26 2022-05-17   \n",
       "24104            Uberlândia           317020      2022-02-26 2022-05-18   \n",
       "24105            Uberlândia           317020      2022-02-26 2022-05-19   \n",
       "24106            Uberlândia           317020      2022-02-26 2022-05-20   \n",
       "24107            Uberlândia           317020      2022-02-26 2022-05-21   \n",
       "\n",
       "       forecast  \n",
       "0      0.008996  \n",
       "1      0.007964  \n",
       "2      0.008593  \n",
       "3      0.005758  \n",
       "4      0.005567  \n",
       "...         ...  \n",
       "24103  0.601449  \n",
       "24104  0.607563  \n",
       "24105  0.613106  \n",
       "24106  0.619586  \n",
       "24107  0.625838  \n",
       "\n",
       "[24108 rows x 5 columns]"
      ],
      "text/html": [
       "<div>\n",
       "<style scoped>\n",
       "    .dataframe tbody tr th:only-of-type {\n",
       "        vertical-align: middle;\n",
       "    }\n",
       "\n",
       "    .dataframe tbody tr th {\n",
       "        vertical-align: top;\n",
       "    }\n",
       "\n",
       "    .dataframe thead th {\n",
       "        text-align: right;\n",
       "    }\n",
       "</style>\n",
       "<table border=\"1\" class=\"dataframe\">\n",
       "  <thead>\n",
       "    <tr style=\"text-align: right;\">\n",
       "      <th></th>\n",
       "      <th>municipality</th>\n",
       "      <th>municipality_id</th>\n",
       "      <th>max_date_to_fit</th>\n",
       "      <th>date</th>\n",
       "      <th>forecast</th>\n",
       "    </tr>\n",
       "  </thead>\n",
       "  <tbody>\n",
       "    <tr>\n",
       "      <th>0</th>\n",
       "      <td>Aparecida de Goiânia</td>\n",
       "      <td>520140</td>\n",
       "      <td>2020-04-25</td>\n",
       "      <td>2020-04-26</td>\n",
       "      <td>0.008996</td>\n",
       "    </tr>\n",
       "    <tr>\n",
       "      <th>1</th>\n",
       "      <td>Aparecida de Goiânia</td>\n",
       "      <td>520140</td>\n",
       "      <td>2020-04-25</td>\n",
       "      <td>2020-04-27</td>\n",
       "      <td>0.007964</td>\n",
       "    </tr>\n",
       "    <tr>\n",
       "      <th>2</th>\n",
       "      <td>Aparecida de Goiânia</td>\n",
       "      <td>520140</td>\n",
       "      <td>2020-04-25</td>\n",
       "      <td>2020-04-28</td>\n",
       "      <td>0.008593</td>\n",
       "    </tr>\n",
       "    <tr>\n",
       "      <th>3</th>\n",
       "      <td>Aparecida de Goiânia</td>\n",
       "      <td>520140</td>\n",
       "      <td>2020-04-25</td>\n",
       "      <td>2020-04-29</td>\n",
       "      <td>0.005758</td>\n",
       "    </tr>\n",
       "    <tr>\n",
       "      <th>4</th>\n",
       "      <td>Aparecida de Goiânia</td>\n",
       "      <td>520140</td>\n",
       "      <td>2020-04-25</td>\n",
       "      <td>2020-04-30</td>\n",
       "      <td>0.005567</td>\n",
       "    </tr>\n",
       "    <tr>\n",
       "      <th>...</th>\n",
       "      <td>...</td>\n",
       "      <td>...</td>\n",
       "      <td>...</td>\n",
       "      <td>...</td>\n",
       "      <td>...</td>\n",
       "    </tr>\n",
       "    <tr>\n",
       "      <th>24103</th>\n",
       "      <td>Uberlândia</td>\n",
       "      <td>317020</td>\n",
       "      <td>2022-02-26</td>\n",
       "      <td>2022-05-17</td>\n",
       "      <td>0.601449</td>\n",
       "    </tr>\n",
       "    <tr>\n",
       "      <th>24104</th>\n",
       "      <td>Uberlândia</td>\n",
       "      <td>317020</td>\n",
       "      <td>2022-02-26</td>\n",
       "      <td>2022-05-18</td>\n",
       "      <td>0.607563</td>\n",
       "    </tr>\n",
       "    <tr>\n",
       "      <th>24105</th>\n",
       "      <td>Uberlândia</td>\n",
       "      <td>317020</td>\n",
       "      <td>2022-02-26</td>\n",
       "      <td>2022-05-19</td>\n",
       "      <td>0.613106</td>\n",
       "    </tr>\n",
       "    <tr>\n",
       "      <th>24106</th>\n",
       "      <td>Uberlândia</td>\n",
       "      <td>317020</td>\n",
       "      <td>2022-02-26</td>\n",
       "      <td>2022-05-20</td>\n",
       "      <td>0.619586</td>\n",
       "    </tr>\n",
       "    <tr>\n",
       "      <th>24107</th>\n",
       "      <td>Uberlândia</td>\n",
       "      <td>317020</td>\n",
       "      <td>2022-02-26</td>\n",
       "      <td>2022-05-21</td>\n",
       "      <td>0.625838</td>\n",
       "    </tr>\n",
       "  </tbody>\n",
       "</table>\n",
       "<p>24108 rows × 5 columns</p>\n",
       "</div>"
      ]
     },
     "execution_count": 7,
     "metadata": {},
     "output_type": "execute_result"
    }
   ],
   "execution_count": 7
  },
  {
   "metadata": {
    "ExecuteTime": {
     "end_time": "2024-08-02T21:07:16.552272Z",
     "start_time": "2024-08-02T21:07:16.549609Z"
    }
   },
   "cell_type": "code",
   "source": [
    "RECOVERY_RATE = 1/8\n",
    "\n",
    "# Regarding IFR=0.66% from Estimates of the severity of coronavirus disease 2019: a model-based analysis. Verity, Robert et al. The Lancet Infectious Diseases, Volume 20, Issue 6, 669 - 677\n",
    "SURVIVAL_RATE = 100/0.66"
   ],
   "id": "17fae36f867c1784",
   "outputs": [],
   "execution_count": 8
  },
  {
   "metadata": {
    "ExecuteTime": {
     "end_time": "2024-08-02T21:07:16.561702Z",
     "start_time": "2024-08-02T21:07:16.553867Z"
    }
   },
   "cell_type": "code",
   "source": [
    "# Verity, Robert, et al. \"Estimates of the severity of coronavirus disease 2019: a model-based analysis.\" The Lancet infectious diseases 20.6 (2020): 669-677.\n",
    "# Gamma distribution with delay mean equal to 18.8 days\n",
    "mean_days_delay_onset_to_death = 18.8  # mean days onset to death.\n",
    "s_death = 0.45\n",
    "shape_death = 1/(s_death**2)\n",
    "scale_death= mean_days_delay_onset_to_death * s_death ** 2\n",
    "delay_onset_to_death_distribution = epyestim.discrete_distrb(gamma(a=shape_death, scale=scale_death))\n",
    "\n",
    "#Bi, Qifang, et al. \"Epidemiology and transmission of COVID-19 in 391 cases and 1286 of their close contacts in Shenzhen, China: a retrospective cohort study.\" The Lancet infectious diseases 20.8 (2020): 911-919.\n",
    "# Lognormal distribution with incabation mean equal to 5.93 days, Lognormal(mu=1.57, sigma²=0.42)\n",
    "incubation_time_distribution = epyestim.discrete_distrb(lognorm(scale=exp(1.57), s=0.65))\n",
    "\n",
    "#Bi, Qifang, et al. \"Epidemiology and transmission of COVID-19 in 391 cases and 1286 of their close contacts in Shenzhen, China: a retrospective cohort study.\" The Lancet infectious diseases 20.8 (2020): 911-919.\n",
    "# Gamma distribution with serial interval mean equal to 6.36 days, gamma(a=2.29, b=0.36)\n",
    "standard_serial_inteval_distribution = epyestim.discrete_distrb(gamma(a=2.29, scale=1/0.36))"
   ],
   "id": "439f4e56ff46a380",
   "outputs": [],
   "execution_count": 9
  },
  {
   "metadata": {
    "ExecuteTime": {
     "end_time": "2024-08-02T21:07:16.569314Z",
     "start_time": "2024-08-02T21:07:16.563443Z"
    }
   },
   "cell_type": "code",
   "source": [
    "window_days_onset_to_death = round(mean_days_delay_onset_to_death)\n",
    "window_days_onset_to_death"
   ],
   "id": "b168f867bbdcceda",
   "outputs": [
    {
     "data": {
      "text/plain": [
       "19"
      ]
     },
     "execution_count": 10,
     "metadata": {},
     "output_type": "execute_result"
    }
   ],
   "execution_count": 10
  },
  {
   "metadata": {
    "ExecuteTime": {
     "end_time": "2024-08-02T21:09:58.354587Z",
     "start_time": "2024-08-02T21:07:16.570751Z"
    }
   },
   "cell_type": "code",
   "source": [
    "df = pd.DataFrame()\n",
    "\n",
    "df_output_lstm = df_output_lstm.sort_values(['municipality', 'date'])\n",
    "df_output_sirds = df_output_sirds.sort_values(['municipality', 'max_date_to_fit', 'estimation', 'date'])\n",
    "\n",
    "for max_date_to_fit in df_output_sirds['max_date_to_fit'].unique():    \n",
    "    df_output_sirds_max_date_to_fit = df_output_sirds.loc[(df_output_sirds['max_date_to_fit']==max_date_to_fit) & (df_output_sirds['date'] <= max_date_to_fit)]\n",
    "    df_output_lstm_max_date_to_fit = df_output_lstm.loc[df_output_lstm['max_date_to_fit'] == max_date_to_fit]\n",
    "    for municipality in df_output_sirds_max_date_to_fit['municipality'].unique():\n",
    "        try:\n",
    "            df_output_sirds_municipality = df_output_sirds_max_date_to_fit.loc[df_output_sirds_max_date_to_fit['municipality']==municipality]\n",
    "            df_output_lstm_municipality = df_output_lstm_max_date_to_fit.loc[df_output_lstm_max_date_to_fit['municipality'] == municipality]\n",
    "            \n",
    "            municipality_id = df_output_sirds_municipality['municipality_id'].unique()[0]\n",
    "            \n",
    "            average_estimated_deaths = df_output_lstm_municipality.iloc[:7]['forecast'].mean()\n",
    "            \n",
    "            df_original_temp = df_original.loc[(df_original['CODIGO_MUNICIPIO_6']==municipality_id) & (df_original['DATA']<=max_date_to_fit)]\n",
    "            deaths_actual_and_forecasted = np.concatenate([df_original_temp['TAXA_OBITOS_NOVOS_MEDIA_MOVEL_7_DIAS'], df_output_lstm_municipality['forecast']])\n",
    "            dates_actual_and_forecasted = np.concatenate([df_original_temp['DATA'], df_output_lstm_municipality['date']])\n",
    "            \n",
    "            population = df_original['POPULACAO_2022'].unique()[0]\n",
    "            \n",
    "            estimated_cases = deaths_actual_and_forecasted * population / 100000 * SURVIVAL_RATE\n",
    "            df_estimated_cases = pd.DataFrame({'date': dates_actual_and_forecasted, 'estimated_cases': estimated_cases})\n",
    "            df_estimated_cases['date'] = pd.to_datetime(df_estimated_cases['date'])\n",
    "            df_estimated_cases['estimated_onset_symptoms'] = df_estimated_cases['estimated_cases'].rolling(window=window_days_onset_to_death, min_periods=1).mean().shift(-(window_days_onset_to_death - 1))\n",
    "            \n",
    "            df_cases = df_estimated_cases.set_index('date')['estimated_onset_symptoms'].dropna()\n",
    "            \n",
    "            # df_effective_reproduction_number_estimated_cases = covid19.r_covid(df_cases, smoothing_window = 28, r_window_size = 14, auto_cutoff=True, n_samples=100, delay_distribution=incubation_time_distribution, gt_distribution=standard_serial_inteval_distribution, a_prior=9.9, b_prior=1/9.25)\n",
    "            df_effective_reproduction_number_estimated_cases = covid19.r_covid(df_cases, smoothing_window = 28, r_window_size = 14, auto_cutoff=True, n_samples=5, delay_distribution=incubation_time_distribution, gt_distribution=standard_serial_inteval_distribution, a_prior=9.9, b_prior=1/9.25)\n",
    "            df_effective_reproduction_number_estimated_cases = df_effective_reproduction_number_estimated_cases.reset_index()\n",
    "            df_effective_reproduction_number_estimated_cases['index'] = pd.to_datetime(df_effective_reproduction_number_estimated_cases['index'])\n",
    "            \n",
    "            average_estimated_rt = df_effective_reproduction_number_estimated_cases.loc[df_effective_reproduction_number_estimated_cases['index']>max_date_to_fit].iloc[:7]['R_mean'].mean()\n",
    "            \n",
    "            for estimation in df_output_sirds_municipality['estimation'].unique():\n",
    "                df_output_sirds_estimation = df_output_sirds_municipality.loc[df_output_sirds_municipality['estimation']==estimation]\n",
    "                \n",
    "                average_estimated_infecteds = df_output_sirds_estimation.iloc[-7:]['I'].mean()            \n",
    "                estimated_fatality = average_estimated_deaths / (average_estimated_infecteds * RECOVERY_RATE)\n",
    "                \n",
    "                average_estimated_susceptibles = df_output_sirds_estimation.iloc[-7:]['S'].mean()\n",
    "                estimated_contact_rate = 100000 * average_estimated_rt / average_estimated_susceptibles * RECOVERY_RATE\n",
    "                \n",
    "                row = {'municipality_id': municipality_id,'municipality': municipality, 'max_date_to_fit': max_date_to_fit, 'estimation': estimation, 'estimated_fatality': estimated_fatality, 'estimated_contact_rate': estimated_contact_rate}\n",
    "                df = pd.concat([df, pd.DataFrame([row])], ignore_index=True)\n",
    "        except ValueError as e:            \n",
    "            print(municipality)\n",
    "            print(max_date_to_fit)\n",
    "            print(e)"
   ],
   "id": "afd7c7ab7f17d434",
   "outputs": [],
   "execution_count": 11
  },
  {
   "metadata": {
    "ExecuteTime": {
     "end_time": "2024-08-02T21:09:58.384841Z",
     "start_time": "2024-08-02T21:09:58.357851Z"
    }
   },
   "cell_type": "code",
   "source": "df.round(4)",
   "id": "38beef7829a8c861",
   "outputs": [
    {
     "data": {
      "text/plain": [
       "      municipality_id          municipality max_date_to_fit  estimation  \\\n",
       "0            520140.0  Aparecida de Goiânia      2020-07-18         0.0   \n",
       "1            520140.0  Aparecida de Goiânia      2020-07-18         1.0   \n",
       "2            520140.0  Aparecida de Goiânia      2020-07-18         2.0   \n",
       "3            520140.0  Aparecida de Goiânia      2020-07-18         3.0   \n",
       "4            520140.0  Aparecida de Goiânia      2020-07-18         4.0   \n",
       "...               ...                   ...             ...         ...   \n",
       "7335         317020.0            Uberlândia      2020-04-25        15.0   \n",
       "7336         317020.0            Uberlândia      2020-04-25        16.0   \n",
       "7337         317020.0            Uberlândia      2020-04-25        17.0   \n",
       "7338         317020.0            Uberlândia      2020-04-25        18.0   \n",
       "7339         317020.0            Uberlândia      2020-04-25        19.0   \n",
       "\n",
       "      estimated_fatality  estimated_contact_rate  \n",
       "0                 0.0162                  0.1411  \n",
       "1                 0.0143                  0.1415  \n",
       "2                 0.0164                  0.1411  \n",
       "3                 0.0150                  0.1416  \n",
       "4                 0.0152                  0.1414  \n",
       "...                  ...                     ...  \n",
       "7335              0.0027                  0.0730  \n",
       "7336              0.0025                  0.0731  \n",
       "7337              0.0014                  0.0731  \n",
       "7338              0.0025                  0.0731  \n",
       "7339              0.0015                  0.0731  \n",
       "\n",
       "[7340 rows x 6 columns]"
      ],
      "text/html": [
       "<div>\n",
       "<style scoped>\n",
       "    .dataframe tbody tr th:only-of-type {\n",
       "        vertical-align: middle;\n",
       "    }\n",
       "\n",
       "    .dataframe tbody tr th {\n",
       "        vertical-align: top;\n",
       "    }\n",
       "\n",
       "    .dataframe thead th {\n",
       "        text-align: right;\n",
       "    }\n",
       "</style>\n",
       "<table border=\"1\" class=\"dataframe\">\n",
       "  <thead>\n",
       "    <tr style=\"text-align: right;\">\n",
       "      <th></th>\n",
       "      <th>municipality_id</th>\n",
       "      <th>municipality</th>\n",
       "      <th>max_date_to_fit</th>\n",
       "      <th>estimation</th>\n",
       "      <th>estimated_fatality</th>\n",
       "      <th>estimated_contact_rate</th>\n",
       "    </tr>\n",
       "  </thead>\n",
       "  <tbody>\n",
       "    <tr>\n",
       "      <th>0</th>\n",
       "      <td>520140.0</td>\n",
       "      <td>Aparecida de Goiânia</td>\n",
       "      <td>2020-07-18</td>\n",
       "      <td>0.0</td>\n",
       "      <td>0.0162</td>\n",
       "      <td>0.1411</td>\n",
       "    </tr>\n",
       "    <tr>\n",
       "      <th>1</th>\n",
       "      <td>520140.0</td>\n",
       "      <td>Aparecida de Goiânia</td>\n",
       "      <td>2020-07-18</td>\n",
       "      <td>1.0</td>\n",
       "      <td>0.0143</td>\n",
       "      <td>0.1415</td>\n",
       "    </tr>\n",
       "    <tr>\n",
       "      <th>2</th>\n",
       "      <td>520140.0</td>\n",
       "      <td>Aparecida de Goiânia</td>\n",
       "      <td>2020-07-18</td>\n",
       "      <td>2.0</td>\n",
       "      <td>0.0164</td>\n",
       "      <td>0.1411</td>\n",
       "    </tr>\n",
       "    <tr>\n",
       "      <th>3</th>\n",
       "      <td>520140.0</td>\n",
       "      <td>Aparecida de Goiânia</td>\n",
       "      <td>2020-07-18</td>\n",
       "      <td>3.0</td>\n",
       "      <td>0.0150</td>\n",
       "      <td>0.1416</td>\n",
       "    </tr>\n",
       "    <tr>\n",
       "      <th>4</th>\n",
       "      <td>520140.0</td>\n",
       "      <td>Aparecida de Goiânia</td>\n",
       "      <td>2020-07-18</td>\n",
       "      <td>4.0</td>\n",
       "      <td>0.0152</td>\n",
       "      <td>0.1414</td>\n",
       "    </tr>\n",
       "    <tr>\n",
       "      <th>...</th>\n",
       "      <td>...</td>\n",
       "      <td>...</td>\n",
       "      <td>...</td>\n",
       "      <td>...</td>\n",
       "      <td>...</td>\n",
       "      <td>...</td>\n",
       "    </tr>\n",
       "    <tr>\n",
       "      <th>7335</th>\n",
       "      <td>317020.0</td>\n",
       "      <td>Uberlândia</td>\n",
       "      <td>2020-04-25</td>\n",
       "      <td>15.0</td>\n",
       "      <td>0.0027</td>\n",
       "      <td>0.0730</td>\n",
       "    </tr>\n",
       "    <tr>\n",
       "      <th>7336</th>\n",
       "      <td>317020.0</td>\n",
       "      <td>Uberlândia</td>\n",
       "      <td>2020-04-25</td>\n",
       "      <td>16.0</td>\n",
       "      <td>0.0025</td>\n",
       "      <td>0.0731</td>\n",
       "    </tr>\n",
       "    <tr>\n",
       "      <th>7337</th>\n",
       "      <td>317020.0</td>\n",
       "      <td>Uberlândia</td>\n",
       "      <td>2020-04-25</td>\n",
       "      <td>17.0</td>\n",
       "      <td>0.0014</td>\n",
       "      <td>0.0731</td>\n",
       "    </tr>\n",
       "    <tr>\n",
       "      <th>7338</th>\n",
       "      <td>317020.0</td>\n",
       "      <td>Uberlândia</td>\n",
       "      <td>2020-04-25</td>\n",
       "      <td>18.0</td>\n",
       "      <td>0.0025</td>\n",
       "      <td>0.0731</td>\n",
       "    </tr>\n",
       "    <tr>\n",
       "      <th>7339</th>\n",
       "      <td>317020.0</td>\n",
       "      <td>Uberlândia</td>\n",
       "      <td>2020-04-25</td>\n",
       "      <td>19.0</td>\n",
       "      <td>0.0015</td>\n",
       "      <td>0.0731</td>\n",
       "    </tr>\n",
       "  </tbody>\n",
       "</table>\n",
       "<p>7340 rows × 6 columns</p>\n",
       "</div>"
      ]
     },
     "execution_count": 12,
     "metadata": {},
     "output_type": "execute_result"
    }
   ],
   "execution_count": 12
  },
  {
   "metadata": {},
   "cell_type": "markdown",
   "source": "## Saving data",
   "id": "bf565cab56c43a11"
  },
  {
   "metadata": {
    "ExecuteTime": {
     "end_time": "2024-08-02T21:09:58.471881Z",
     "start_time": "2024-08-02T21:09:58.387098Z"
    }
   },
   "cell_type": "code",
   "source": "df.to_csv('data/df_estimated_parameters.csv', index=False)",
   "id": "a0ca11e3ef78b408",
   "outputs": [],
   "execution_count": 13
  }
 ],
 "metadata": {
  "kernelspec": {
   "display_name": "Python 3",
   "language": "python",
   "name": "python3"
  },
  "language_info": {
   "codemirror_mode": {
    "name": "ipython",
    "version": 2
   },
   "file_extension": ".py",
   "mimetype": "text/x-python",
   "name": "python",
   "nbconvert_exporter": "python",
   "pygments_lexer": "ipython2",
   "version": "2.7.6"
  }
 },
 "nbformat": 4,
 "nbformat_minor": 5
}
