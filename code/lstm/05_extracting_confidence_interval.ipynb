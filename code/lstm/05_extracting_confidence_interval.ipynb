{
 "cells": [
  {
   "cell_type": "markdown",
   "source": "# Analyzing the forecast confidence interval",
   "metadata": {
    "collapsed": false
   }
  },
  {
   "cell_type": "code",
   "metadata": {
    "collapsed": true,
    "ExecuteTime": {
     "end_time": "2024-07-26T14:17:15.120511Z",
     "start_time": "2024-07-26T14:17:14.466893Z"
    }
   },
   "source": [
    "import numpy as np\n",
    "import pandas as pd\n",
    "from code.util import calculate_confidence_interval"
   ],
   "outputs": [],
   "execution_count": 1
  },
  {
   "cell_type": "markdown",
   "source": [
    "## Reading data"
   ],
   "metadata": {
    "collapsed": false
   }
  },
  {
   "cell_type": "code",
   "source": [
    "df_forecasting = pd.read_csv('data/df_forecasting.csv')\n",
    "df_forecasting['max_date_to_fit'] = pd.to_datetime(df_forecasting['max_date_to_fit']) \n",
    "df_forecasting['date'] = pd.to_datetime(df_forecasting['date'])"
   ],
   "metadata": {
    "collapsed": false,
    "ExecuteTime": {
     "end_time": "2024-07-26T14:17:15.404495Z",
     "start_time": "2024-07-26T14:17:15.121524Z"
    }
   },
   "outputs": [],
   "execution_count": 2
  },
  {
   "cell_type": "markdown",
   "source": "## Calculating ",
   "metadata": {
    "collapsed": false
   }
  },
  {
   "metadata": {
    "ExecuteTime": {
     "end_time": "2024-07-26T14:17:15.409080Z",
     "start_time": "2024-07-26T14:17:15.405224Z"
    }
   },
   "cell_type": "code",
   "source": "df_forecasting.columns",
   "outputs": [
    {
     "data": {
      "text/plain": [
       "Index(['Unnamed: 0', 'forecast', 'municipality', 'municipality_id',\n",
       "       'max_date_to_fit', 'date', 'execution'],\n",
       "      dtype='object')"
      ]
     },
     "execution_count": 3,
     "metadata": {},
     "output_type": "execute_result"
    }
   ],
   "execution_count": 3
  },
  {
   "metadata": {
    "ExecuteTime": {
     "end_time": "2024-07-26T14:21:18.965674Z",
     "start_time": "2024-07-26T14:17:15.409800Z"
    }
   },
   "cell_type": "code",
   "source": [
    "df_confidence_interval = pd.DataFrame()\n",
    "for municipality in df_forecasting['municipality'].unique():    \n",
    "    df_municipality = df_forecasting.loc[df_forecasting['municipality'] == municipality]\n",
    "    df_municipality = df_municipality.sort_values('date')\n",
    "    municipality_id = df_municipality['municipality_id'].values[0]\n",
    "    for date in df_municipality['date'].unique():\n",
    "        df_municipality_date = df_municipality.loc[df_municipality['date'] == date]\n",
    "        max_date_to_fit = df_municipality_date['max_date_to_fit'].values[0]\n",
    "        forecast = df_municipality_date['forecast'].values\n",
    "        lower_bound, upper_bound = calculate_confidence_interval(forecast)\n",
    "        mean = np.mean(forecast)\n",
    "        entry = {'municipality': municipality, 'municipality_id': municipality_id, 'date': date, 'forecast': mean, 'lower_bound': lower_bound, 'upper_bound': upper_bound, 'max_date_to_fit': max_date_to_fit}\n",
    "        df_confidence_interval = pd.concat([df_confidence_interval, pd.DataFrame.from_records([entry])])"
   ],
   "outputs": [],
   "execution_count": 4
  },
  {
   "metadata": {},
   "cell_type": "markdown",
   "source": "## Saving data"
  },
  {
   "metadata": {
    "ExecuteTime": {
     "end_time": "2024-07-26T14:21:19.042418Z",
     "start_time": "2024-07-26T14:21:18.966646Z"
    }
   },
   "cell_type": "code",
   "source": "df_confidence_interval.to_csv('data/df_forecast_death_confidence_interval.csv')",
   "outputs": [],
   "execution_count": 5
  },
  {
   "metadata": {
    "ExecuteTime": {
     "end_time": "2024-07-26T14:21:19.050709Z",
     "start_time": "2024-07-26T14:21:19.043144Z"
    }
   },
   "cell_type": "code",
   "source": "df_confidence_interval",
   "outputs": [
    {
     "data": {
      "text/plain": [
       "            municipality  municipality_id       date  forecast  lower_bound  \\\n",
       "0   Aparecida de Goiânia           520140 2020-04-26  0.073103     0.070685   \n",
       "0   Aparecida de Goiânia           520140 2020-04-27  0.071621     0.069892   \n",
       "0   Aparecida de Goiânia           520140 2020-04-28  0.073044     0.071063   \n",
       "0   Aparecida de Goiânia           520140 2020-04-29  0.071074     0.068863   \n",
       "0   Aparecida de Goiânia           520140 2020-04-30  0.071983     0.069963   \n",
       "..                   ...              ...        ...       ...          ...   \n",
       "0             Uberlândia           317020 2022-05-17  0.166675     0.164570   \n",
       "0             Uberlândia           317020 2022-05-18  0.165722     0.164023   \n",
       "0             Uberlândia           317020 2022-05-19  0.164480     0.162974   \n",
       "0             Uberlândia           317020 2022-05-20  0.164638     0.163272   \n",
       "0             Uberlândia           317020 2022-05-21  0.163181     0.161936   \n",
       "\n",
       "    upper_bound max_date_to_fit  \n",
       "0      0.075141      2020-04-25  \n",
       "0      0.073442      2020-04-25  \n",
       "0      0.075218      2020-04-25  \n",
       "0      0.073110      2020-04-25  \n",
       "0      0.074003      2020-04-25  \n",
       "..          ...             ...  \n",
       "0      0.168552      2022-02-26  \n",
       "0      0.167560      2022-02-26  \n",
       "0      0.166117      2022-02-26  \n",
       "0      0.166209      2022-02-26  \n",
       "0      0.164432      2022-02-26  \n",
       "\n",
       "[24108 rows x 7 columns]"
      ],
      "text/html": [
       "<div>\n",
       "<style scoped>\n",
       "    .dataframe tbody tr th:only-of-type {\n",
       "        vertical-align: middle;\n",
       "    }\n",
       "\n",
       "    .dataframe tbody tr th {\n",
       "        vertical-align: top;\n",
       "    }\n",
       "\n",
       "    .dataframe thead th {\n",
       "        text-align: right;\n",
       "    }\n",
       "</style>\n",
       "<table border=\"1\" class=\"dataframe\">\n",
       "  <thead>\n",
       "    <tr style=\"text-align: right;\">\n",
       "      <th></th>\n",
       "      <th>municipality</th>\n",
       "      <th>municipality_id</th>\n",
       "      <th>date</th>\n",
       "      <th>forecast</th>\n",
       "      <th>lower_bound</th>\n",
       "      <th>upper_bound</th>\n",
       "      <th>max_date_to_fit</th>\n",
       "    </tr>\n",
       "  </thead>\n",
       "  <tbody>\n",
       "    <tr>\n",
       "      <th>0</th>\n",
       "      <td>Aparecida de Goiânia</td>\n",
       "      <td>520140</td>\n",
       "      <td>2020-04-26</td>\n",
       "      <td>0.073103</td>\n",
       "      <td>0.070685</td>\n",
       "      <td>0.075141</td>\n",
       "      <td>2020-04-25</td>\n",
       "    </tr>\n",
       "    <tr>\n",
       "      <th>0</th>\n",
       "      <td>Aparecida de Goiânia</td>\n",
       "      <td>520140</td>\n",
       "      <td>2020-04-27</td>\n",
       "      <td>0.071621</td>\n",
       "      <td>0.069892</td>\n",
       "      <td>0.073442</td>\n",
       "      <td>2020-04-25</td>\n",
       "    </tr>\n",
       "    <tr>\n",
       "      <th>0</th>\n",
       "      <td>Aparecida de Goiânia</td>\n",
       "      <td>520140</td>\n",
       "      <td>2020-04-28</td>\n",
       "      <td>0.073044</td>\n",
       "      <td>0.071063</td>\n",
       "      <td>0.075218</td>\n",
       "      <td>2020-04-25</td>\n",
       "    </tr>\n",
       "    <tr>\n",
       "      <th>0</th>\n",
       "      <td>Aparecida de Goiânia</td>\n",
       "      <td>520140</td>\n",
       "      <td>2020-04-29</td>\n",
       "      <td>0.071074</td>\n",
       "      <td>0.068863</td>\n",
       "      <td>0.073110</td>\n",
       "      <td>2020-04-25</td>\n",
       "    </tr>\n",
       "    <tr>\n",
       "      <th>0</th>\n",
       "      <td>Aparecida de Goiânia</td>\n",
       "      <td>520140</td>\n",
       "      <td>2020-04-30</td>\n",
       "      <td>0.071983</td>\n",
       "      <td>0.069963</td>\n",
       "      <td>0.074003</td>\n",
       "      <td>2020-04-25</td>\n",
       "    </tr>\n",
       "    <tr>\n",
       "      <th>...</th>\n",
       "      <td>...</td>\n",
       "      <td>...</td>\n",
       "      <td>...</td>\n",
       "      <td>...</td>\n",
       "      <td>...</td>\n",
       "      <td>...</td>\n",
       "      <td>...</td>\n",
       "    </tr>\n",
       "    <tr>\n",
       "      <th>0</th>\n",
       "      <td>Uberlândia</td>\n",
       "      <td>317020</td>\n",
       "      <td>2022-05-17</td>\n",
       "      <td>0.166675</td>\n",
       "      <td>0.164570</td>\n",
       "      <td>0.168552</td>\n",
       "      <td>2022-02-26</td>\n",
       "    </tr>\n",
       "    <tr>\n",
       "      <th>0</th>\n",
       "      <td>Uberlândia</td>\n",
       "      <td>317020</td>\n",
       "      <td>2022-05-18</td>\n",
       "      <td>0.165722</td>\n",
       "      <td>0.164023</td>\n",
       "      <td>0.167560</td>\n",
       "      <td>2022-02-26</td>\n",
       "    </tr>\n",
       "    <tr>\n",
       "      <th>0</th>\n",
       "      <td>Uberlândia</td>\n",
       "      <td>317020</td>\n",
       "      <td>2022-05-19</td>\n",
       "      <td>0.164480</td>\n",
       "      <td>0.162974</td>\n",
       "      <td>0.166117</td>\n",
       "      <td>2022-02-26</td>\n",
       "    </tr>\n",
       "    <tr>\n",
       "      <th>0</th>\n",
       "      <td>Uberlândia</td>\n",
       "      <td>317020</td>\n",
       "      <td>2022-05-20</td>\n",
       "      <td>0.164638</td>\n",
       "      <td>0.163272</td>\n",
       "      <td>0.166209</td>\n",
       "      <td>2022-02-26</td>\n",
       "    </tr>\n",
       "    <tr>\n",
       "      <th>0</th>\n",
       "      <td>Uberlândia</td>\n",
       "      <td>317020</td>\n",
       "      <td>2022-05-21</td>\n",
       "      <td>0.163181</td>\n",
       "      <td>0.161936</td>\n",
       "      <td>0.164432</td>\n",
       "      <td>2022-02-26</td>\n",
       "    </tr>\n",
       "  </tbody>\n",
       "</table>\n",
       "<p>24108 rows × 7 columns</p>\n",
       "</div>"
      ]
     },
     "execution_count": 6,
     "metadata": {},
     "output_type": "execute_result"
    }
   ],
   "execution_count": 6
  },
  {
   "metadata": {
    "ExecuteTime": {
     "end_time": "2024-07-26T14:21:19.053613Z",
     "start_time": "2024-07-26T14:21:19.051341Z"
    }
   },
   "cell_type": "code",
   "source": "df_confidence_interval.columns",
   "outputs": [
    {
     "data": {
      "text/plain": [
       "Index(['municipality', 'municipality_id', 'date', 'forecast', 'lower_bound',\n",
       "       'upper_bound', 'max_date_to_fit'],\n",
       "      dtype='object')"
      ]
     },
     "execution_count": 7,
     "metadata": {},
     "output_type": "execute_result"
    }
   ],
   "execution_count": 7
  }
 ],
 "metadata": {
  "kernelspec": {
   "display_name": "Python 3",
   "language": "python",
   "name": "python3"
  },
  "language_info": {
   "codemirror_mode": {
    "name": "ipython",
    "version": 2
   },
   "file_extension": ".py",
   "mimetype": "text/x-python",
   "name": "python",
   "nbconvert_exporter": "python",
   "pygments_lexer": "ipython2",
   "version": "2.7.6"
  }
 },
 "nbformat": 4,
 "nbformat_minor": 0
}
