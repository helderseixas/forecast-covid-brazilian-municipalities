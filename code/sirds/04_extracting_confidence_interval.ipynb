{
 "cells": [
  {
   "cell_type": "markdown",
   "source": "# Analyzing the forecast confidence interval",
   "metadata": {
    "collapsed": false
   }
  },
  {
   "cell_type": "code",
   "metadata": {
    "collapsed": true,
    "ExecuteTime": {
     "end_time": "2024-07-19T18:54:21.210834Z",
     "start_time": "2024-07-19T18:54:21.152077Z"
    }
   },
   "source": [
    "import numpy as np\n",
    "import pandas as pd\n",
    "from code.util import calculate_confidence_interval"
   ],
   "outputs": [],
   "execution_count": 1
  },
  {
   "cell_type": "markdown",
   "source": [
    "## Reading data"
   ],
   "metadata": {
    "collapsed": false
   }
  },
  {
   "cell_type": "code",
   "source": [
    "df_forecasting = pd.read_csv('data/df_deaths_forecasted.csv')\n",
    "df_forecasting['max_date_to_fit'] = pd.to_datetime(df_forecasting['max_date_to_fit']) \n",
    "df_forecasting['date'] = pd.to_datetime(df_forecasting['date'])"
   ],
   "metadata": {
    "collapsed": false,
    "ExecuteTime": {
     "end_time": "2024-07-19T18:54:21.786167Z",
     "start_time": "2024-07-19T18:54:21.212179Z"
    }
   },
   "outputs": [],
   "execution_count": 2
  },
  {
   "cell_type": "markdown",
   "source": "## Calculating ",
   "metadata": {
    "collapsed": false
   }
  },
  {
   "metadata": {
    "ExecuteTime": {
     "end_time": "2024-07-19T18:54:21.796576Z",
     "start_time": "2024-07-19T18:54:21.787206Z"
    }
   },
   "cell_type": "code",
   "source": "df_forecasting.columns",
   "outputs": [
    {
     "data": {
      "text/plain": [
       "Index(['forecast', 'municipality', 'municipality_id', 'max_date_to_fit',\n",
       "       'estimation', 'date'],\n",
       "      dtype='object')"
      ]
     },
     "execution_count": 3,
     "metadata": {},
     "output_type": "execute_result"
    }
   ],
   "execution_count": 3
  },
  {
   "metadata": {
    "ExecuteTime": {
     "end_time": "2024-07-19T19:13:22.358539Z",
     "start_time": "2024-07-19T18:54:21.798258Z"
    }
   },
   "cell_type": "code",
   "source": [
    "df_confidence_interval = pd.DataFrame()\n",
    "for municipality in df_forecasting['municipality'].unique():    \n",
    "    df_municipality = df_forecasting.loc[df_forecasting['municipality'] == municipality]\n",
    "    df_municipality = df_municipality.sort_values('date')\n",
    "    municipality_id = df_municipality['municipality_id'].values[0]\n",
    "    for date in df_municipality['date'].unique():\n",
    "        df_municipality_date = df_municipality.loc[df_municipality['date'] == date]\n",
    "        max_date_to_fit = df_municipality_date['max_date_to_fit'].values[0]\n",
    "        forecast = df_municipality_date['forecast'].values\n",
    "        lower_bound, upper_bound = calculate_confidence_interval(forecast)\n",
    "        mean = np.mean(forecast)\n",
    "        entry = {'municipality': municipality, 'municipality_id': municipality_id, 'date': date, 'forecast': mean, 'lower_bound': lower_bound, 'upper_bound': upper_bound, 'max_date_to_fit': max_date_to_fit}\n",
    "        df_confidence_interval = pd.concat([df_confidence_interval, pd.DataFrame.from_records([entry])])"
   ],
   "outputs": [],
   "execution_count": 4
  },
  {
   "metadata": {},
   "cell_type": "markdown",
   "source": "## Saving data"
  },
  {
   "metadata": {
    "ExecuteTime": {
     "end_time": "2024-07-19T19:13:22.632176Z",
     "start_time": "2024-07-19T19:13:22.359796Z"
    }
   },
   "cell_type": "code",
   "source": "df_confidence_interval.to_csv('data/df_forecast_death_confidence_interval.csv')",
   "outputs": [],
   "execution_count": 5
  },
  {
   "metadata": {
    "ExecuteTime": {
     "end_time": "2024-07-19T19:13:22.678417Z",
     "start_time": "2024-07-19T19:13:22.633438Z"
    }
   },
   "cell_type": "code",
   "source": "df_confidence_interval",
   "outputs": [
    {
     "data": {
      "text/plain": [
       "        municipality  municipality_id       date  forecast  lower_bound  \\\n",
       "0            Aracaju         280030.0 2020-04-26  0.027166     0.026555   \n",
       "0            Aracaju         280030.0 2020-04-27  0.028970     0.028350   \n",
       "0            Aracaju         280030.0 2020-04-28  0.030849     0.030213   \n",
       "0            Aracaju         280030.0 2020-04-29  0.032926     0.032265   \n",
       "0            Aracaju         280030.0 2020-04-30  0.035095     0.034306   \n",
       "..               ...              ...        ...       ...          ...   \n",
       "0   Feira de Santana         291080.0 2022-05-17  0.032853     0.019744   \n",
       "0   Feira de Santana         291080.0 2022-05-18  0.033142     0.019960   \n",
       "0   Feira de Santana         291080.0 2022-05-19  0.033436     0.020459   \n",
       "0   Feira de Santana         291080.0 2022-05-20  0.033737     0.020380   \n",
       "0   Feira de Santana         291080.0 2022-05-21  0.034042     0.020413   \n",
       "\n",
       "    upper_bound max_date_to_fit  \n",
       "0      0.027729      2020-04-25  \n",
       "0      0.029591      2020-04-25  \n",
       "0      0.031497      2020-04-25  \n",
       "0      0.033561      2020-04-25  \n",
       "0      0.035845      2020-04-25  \n",
       "..          ...             ...  \n",
       "0      0.047410      2022-02-26  \n",
       "0      0.047280      2022-02-26  \n",
       "0      0.047109      2022-02-26  \n",
       "0      0.047439      2022-02-26  \n",
       "0      0.049596      2022-02-26  \n",
       "\n",
       "[30828 rows x 7 columns]"
      ],
      "text/html": [
       "<div>\n",
       "<style scoped>\n",
       "    .dataframe tbody tr th:only-of-type {\n",
       "        vertical-align: middle;\n",
       "    }\n",
       "\n",
       "    .dataframe tbody tr th {\n",
       "        vertical-align: top;\n",
       "    }\n",
       "\n",
       "    .dataframe thead th {\n",
       "        text-align: right;\n",
       "    }\n",
       "</style>\n",
       "<table border=\"1\" class=\"dataframe\">\n",
       "  <thead>\n",
       "    <tr style=\"text-align: right;\">\n",
       "      <th></th>\n",
       "      <th>municipality</th>\n",
       "      <th>municipality_id</th>\n",
       "      <th>date</th>\n",
       "      <th>forecast</th>\n",
       "      <th>lower_bound</th>\n",
       "      <th>upper_bound</th>\n",
       "      <th>max_date_to_fit</th>\n",
       "    </tr>\n",
       "  </thead>\n",
       "  <tbody>\n",
       "    <tr>\n",
       "      <th>0</th>\n",
       "      <td>Aracaju</td>\n",
       "      <td>280030.0</td>\n",
       "      <td>2020-04-26</td>\n",
       "      <td>0.027166</td>\n",
       "      <td>0.026555</td>\n",
       "      <td>0.027729</td>\n",
       "      <td>2020-04-25</td>\n",
       "    </tr>\n",
       "    <tr>\n",
       "      <th>0</th>\n",
       "      <td>Aracaju</td>\n",
       "      <td>280030.0</td>\n",
       "      <td>2020-04-27</td>\n",
       "      <td>0.028970</td>\n",
       "      <td>0.028350</td>\n",
       "      <td>0.029591</td>\n",
       "      <td>2020-04-25</td>\n",
       "    </tr>\n",
       "    <tr>\n",
       "      <th>0</th>\n",
       "      <td>Aracaju</td>\n",
       "      <td>280030.0</td>\n",
       "      <td>2020-04-28</td>\n",
       "      <td>0.030849</td>\n",
       "      <td>0.030213</td>\n",
       "      <td>0.031497</td>\n",
       "      <td>2020-04-25</td>\n",
       "    </tr>\n",
       "    <tr>\n",
       "      <th>0</th>\n",
       "      <td>Aracaju</td>\n",
       "      <td>280030.0</td>\n",
       "      <td>2020-04-29</td>\n",
       "      <td>0.032926</td>\n",
       "      <td>0.032265</td>\n",
       "      <td>0.033561</td>\n",
       "      <td>2020-04-25</td>\n",
       "    </tr>\n",
       "    <tr>\n",
       "      <th>0</th>\n",
       "      <td>Aracaju</td>\n",
       "      <td>280030.0</td>\n",
       "      <td>2020-04-30</td>\n",
       "      <td>0.035095</td>\n",
       "      <td>0.034306</td>\n",
       "      <td>0.035845</td>\n",
       "      <td>2020-04-25</td>\n",
       "    </tr>\n",
       "    <tr>\n",
       "      <th>...</th>\n",
       "      <td>...</td>\n",
       "      <td>...</td>\n",
       "      <td>...</td>\n",
       "      <td>...</td>\n",
       "      <td>...</td>\n",
       "      <td>...</td>\n",
       "      <td>...</td>\n",
       "    </tr>\n",
       "    <tr>\n",
       "      <th>0</th>\n",
       "      <td>Feira de Santana</td>\n",
       "      <td>291080.0</td>\n",
       "      <td>2022-05-17</td>\n",
       "      <td>0.032853</td>\n",
       "      <td>0.019744</td>\n",
       "      <td>0.047410</td>\n",
       "      <td>2022-02-26</td>\n",
       "    </tr>\n",
       "    <tr>\n",
       "      <th>0</th>\n",
       "      <td>Feira de Santana</td>\n",
       "      <td>291080.0</td>\n",
       "      <td>2022-05-18</td>\n",
       "      <td>0.033142</td>\n",
       "      <td>0.019960</td>\n",
       "      <td>0.047280</td>\n",
       "      <td>2022-02-26</td>\n",
       "    </tr>\n",
       "    <tr>\n",
       "      <th>0</th>\n",
       "      <td>Feira de Santana</td>\n",
       "      <td>291080.0</td>\n",
       "      <td>2022-05-19</td>\n",
       "      <td>0.033436</td>\n",
       "      <td>0.020459</td>\n",
       "      <td>0.047109</td>\n",
       "      <td>2022-02-26</td>\n",
       "    </tr>\n",
       "    <tr>\n",
       "      <th>0</th>\n",
       "      <td>Feira de Santana</td>\n",
       "      <td>291080.0</td>\n",
       "      <td>2022-05-20</td>\n",
       "      <td>0.033737</td>\n",
       "      <td>0.020380</td>\n",
       "      <td>0.047439</td>\n",
       "      <td>2022-02-26</td>\n",
       "    </tr>\n",
       "    <tr>\n",
       "      <th>0</th>\n",
       "      <td>Feira de Santana</td>\n",
       "      <td>291080.0</td>\n",
       "      <td>2022-05-21</td>\n",
       "      <td>0.034042</td>\n",
       "      <td>0.020413</td>\n",
       "      <td>0.049596</td>\n",
       "      <td>2022-02-26</td>\n",
       "    </tr>\n",
       "  </tbody>\n",
       "</table>\n",
       "<p>30828 rows × 7 columns</p>\n",
       "</div>"
      ]
     },
     "execution_count": 6,
     "metadata": {},
     "output_type": "execute_result"
    }
   ],
   "execution_count": 6
  },
  {
   "metadata": {
    "ExecuteTime": {
     "end_time": "2024-07-19T19:13:22.687764Z",
     "start_time": "2024-07-19T19:13:22.680415Z"
    }
   },
   "cell_type": "code",
   "source": "df_confidence_interval.columns",
   "outputs": [
    {
     "data": {
      "text/plain": [
       "Index(['municipality', 'municipality_id', 'date', 'forecast', 'lower_bound',\n",
       "       'upper_bound', 'max_date_to_fit'],\n",
       "      dtype='object')"
      ]
     },
     "execution_count": 7,
     "metadata": {},
     "output_type": "execute_result"
    }
   ],
   "execution_count": 7
  }
 ],
 "metadata": {
  "kernelspec": {
   "display_name": "Python 3",
   "language": "python",
   "name": "python3"
  },
  "language_info": {
   "codemirror_mode": {
    "name": "ipython",
    "version": 2
   },
   "file_extension": ".py",
   "mimetype": "text/x-python",
   "name": "python",
   "nbconvert_exporter": "python",
   "pygments_lexer": "ipython2",
   "version": "2.7.6"
  }
 },
 "nbformat": 4,
 "nbformat_minor": 0
}
