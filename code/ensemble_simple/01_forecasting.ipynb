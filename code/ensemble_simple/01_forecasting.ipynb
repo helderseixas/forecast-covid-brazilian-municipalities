{
 "cells": [
  {
   "cell_type": "markdown",
   "source": [
    "# Visualizing the forecastings"
   ],
   "metadata": {
    "collapsed": false
   }
  },
  {
   "cell_type": "code",
   "metadata": {
    "collapsed": true,
    "ExecuteTime": {
     "end_time": "2024-08-03T02:39:00.940928Z",
     "start_time": "2024-08-03T02:39:00.936835Z"
    }
   },
   "source": [
    "import matplotlib.pyplot as plt\n",
    "import numpy as np\n",
    "import seaborn as sns\n",
    "import pandas as pd\n",
    "from code import util\n",
    "import matplotlib.dates as mdates"
   ],
   "outputs": [],
   "execution_count": 13
  },
  {
   "cell_type": "markdown",
   "source": [
    "## Reading data"
   ],
   "metadata": {
    "collapsed": false
   }
  },
  {
   "metadata": {
    "ExecuteTime": {
     "end_time": "2024-08-03T02:39:01.563685Z",
     "start_time": "2024-08-03T02:39:00.973067Z"
    }
   },
   "cell_type": "code",
   "source": [
    "df_results_sirds = pd.read_csv('../sirds/data/df_deaths_forecasted.csv')\n",
    "df_results_sirds['max_date_to_fit'] = pd.to_datetime(df_results_sirds['max_date_to_fit'])\n",
    "df_results_sirds['date'] = pd.to_datetime(df_results_sirds['date'], format='mixed')\n",
    "df_results_sirds = df_results_sirds.rename(columns={'forecast': 'forecast_sirds'})\n",
    "df_results_sirds = df_results_sirds[['municipality_id', 'municipality', 'max_date_to_fit', 'date', 'estimation', 'forecast_sirds']]"
   ],
   "outputs": [],
   "execution_count": 14
  },
  {
   "cell_type": "code",
   "source": [
    "df_results_lstm = pd.read_csv('../lstm/data/df_forecasting.csv')\n",
    "df_results_lstm['max_date_to_fit'] = pd.to_datetime(df_results_lstm['max_date_to_fit'])\n",
    "df_results_lstm['date'] = pd.to_datetime(df_results_lstm['date'], format='mixed')\n",
    "df_results_lstm = df_results_lstm.rename(columns={'execution': 'estimation', 'forecast': 'forecast_lstm_univariate'})\n",
    "df_results_lstm = df_results_lstm[['municipality_id', 'municipality', 'max_date_to_fit', 'date', 'estimation', 'forecast_lstm_univariate']]"
   ],
   "metadata": {
    "collapsed": false,
    "ExecuteTime": {
     "end_time": "2024-08-03T02:39:02.100357Z",
     "start_time": "2024-08-03T02:39:01.565071Z"
    }
   },
   "outputs": [],
   "execution_count": 15
  },
  {
   "cell_type": "code",
   "source": [
    "df_results_sirds_hybrid = pd.read_csv('../sirds_hybrid/data/df_deaths_forecasted.csv')\n",
    "df_results_sirds_hybrid['max_date_to_fit'] = pd.to_datetime(df_results_sirds_hybrid['max_date_to_fit'])\n",
    "df_results_sirds_hybrid['date'] = pd.to_datetime(df_results_sirds_hybrid['date'], format='mixed')\n",
    "df_results_sirds_hybrid = df_results_sirds_hybrid.rename(columns={'forecast': 'forecast_sirds_hybrid'})\n",
    "df_results_sirds_hybrid = df_results_sirds_hybrid[['municipality_id', 'municipality', 'max_date_to_fit', 'date', 'estimation', 'forecast_sirds_hybrid']]"
   ],
   "metadata": {
    "collapsed": false,
    "ExecuteTime": {
     "end_time": "2024-08-03T02:39:02.769060Z",
     "start_time": "2024-08-03T02:39:02.101823Z"
    }
   },
   "outputs": [],
   "execution_count": 16
  },
  {
   "metadata": {
    "ExecuteTime": {
     "end_time": "2024-08-03T02:39:02.967539Z",
     "start_time": "2024-08-03T02:39:02.770448Z"
    }
   },
   "cell_type": "code",
   "source": [
    "df_results_lstm_hybrid = pd.read_csv('../lstm_hybrid_simple_without_vaccination/data/df_forecasting.csv')\n",
    "df_results_lstm_hybrid['max_date_to_fit'] = pd.to_datetime(df_results_lstm_hybrid['max_date_to_fit'])\n",
    "df_results_lstm_hybrid['date'] = pd.to_datetime(df_results_lstm_hybrid['date'], format='mixed')\n",
    "df_results_lstm_hybrid = df_results_lstm_hybrid.rename(columns={'execution': 'estimation', 'forecast': 'forecast_lstm_hybrid'})\n",
    "df_results_lstm_hybrid = df_results_lstm_hybrid[['municipality_id', 'municipality', 'max_date_to_fit', 'date', 'estimation', 'forecast_lstm_hybrid']]"
   ],
   "outputs": [],
   "execution_count": 17
  },
  {
   "metadata": {},
   "cell_type": "markdown",
   "source": "### Combining forecasts"
  },
  {
   "metadata": {
    "ExecuteTime": {
     "end_time": "2024-08-03T02:39:03.307244Z",
     "start_time": "2024-08-03T02:39:02.968731Z"
    }
   },
   "cell_type": "code",
   "source": "df = df_results_sirds.merge(df_results_lstm, how='outer', on=['municipality_id', 'municipality', 'max_date_to_fit', 'date', 'estimation'])",
   "outputs": [],
   "execution_count": 18
  },
  {
   "metadata": {
    "ExecuteTime": {
     "end_time": "2024-08-03T02:39:03.689443Z",
     "start_time": "2024-08-03T02:39:03.308402Z"
    }
   },
   "cell_type": "code",
   "source": [
    "df = df.merge(df_results_sirds_hybrid, how='outer', on=['municipality_id', 'municipality', 'max_date_to_fit', 'date', 'estimation'])\n",
    "df = df.merge(df_results_lstm_hybrid, how='outer', on=['municipality_id', 'municipality', 'max_date_to_fit', 'date', 'estimation'])"
   ],
   "outputs": [],
   "execution_count": 19
  },
  {
   "metadata": {
    "ExecuteTime": {
     "end_time": "2024-08-03T02:39:03.706176Z",
     "start_time": "2024-08-03T02:39:03.690433Z"
    }
   },
   "cell_type": "code",
   "source": "df",
   "outputs": [
    {
     "data": {
      "text/plain": [
       "        municipality_id      municipality max_date_to_fit       date  \\\n",
       "0              280030.0           Aracaju      2020-04-25 2020-04-26   \n",
       "1              280030.0           Aracaju      2020-04-25 2020-04-27   \n",
       "2              280030.0           Aracaju      2020-04-25 2020-04-28   \n",
       "3              280030.0           Aracaju      2020-04-25 2020-04-29   \n",
       "4              280030.0           Aracaju      2020-04-25 2020-04-30   \n",
       "...                 ...               ...             ...        ...   \n",
       "617675         291080.0  Feira de Santana      2020-04-25 2020-05-19   \n",
       "617676         291080.0  Feira de Santana      2020-04-25 2020-05-20   \n",
       "617677         291080.0  Feira de Santana      2020-04-25 2020-05-21   \n",
       "617678         291080.0  Feira de Santana      2020-04-25 2020-05-22   \n",
       "617679         291080.0  Feira de Santana      2020-04-25 2020-05-23   \n",
       "\n",
       "        estimation  forecast_sirds  forecast_lstm_univariate  \\\n",
       "0              0.0        0.026982                  0.014681   \n",
       "1              0.0        0.028788                  0.009759   \n",
       "2              0.0        0.030689                  0.006912   \n",
       "3              0.0        0.032698                  0.010024   \n",
       "4              0.0        0.034857                  0.005650   \n",
       "...            ...             ...                       ...   \n",
       "617675        19.0             NaN                  0.000326   \n",
       "617676        19.0             NaN                  0.000505   \n",
       "617677        19.0             NaN                  0.000579   \n",
       "617678        19.0             NaN                  0.001109   \n",
       "617679        19.0             NaN                  0.001815   \n",
       "\n",
       "        forecast_sirds_hybrid  forecast_lstm_hybrid  \n",
       "0                    0.008211              0.049671  \n",
       "1                    0.007756              0.051311  \n",
       "2                    0.007353              0.050429  \n",
       "3                    0.006966              0.052750  \n",
       "4                    0.006600              0.054124  \n",
       "...                       ...                   ...  \n",
       "617675                    NaN                   NaN  \n",
       "617676                    NaN                   NaN  \n",
       "617677                    NaN                   NaN  \n",
       "617678                    NaN                   NaN  \n",
       "617679                    NaN                   NaN  \n",
       "\n",
       "[617680 rows x 9 columns]"
      ],
      "text/html": [
       "<div>\n",
       "<style scoped>\n",
       "    .dataframe tbody tr th:only-of-type {\n",
       "        vertical-align: middle;\n",
       "    }\n",
       "\n",
       "    .dataframe tbody tr th {\n",
       "        vertical-align: top;\n",
       "    }\n",
       "\n",
       "    .dataframe thead th {\n",
       "        text-align: right;\n",
       "    }\n",
       "</style>\n",
       "<table border=\"1\" class=\"dataframe\">\n",
       "  <thead>\n",
       "    <tr style=\"text-align: right;\">\n",
       "      <th></th>\n",
       "      <th>municipality_id</th>\n",
       "      <th>municipality</th>\n",
       "      <th>max_date_to_fit</th>\n",
       "      <th>date</th>\n",
       "      <th>estimation</th>\n",
       "      <th>forecast_sirds</th>\n",
       "      <th>forecast_lstm_univariate</th>\n",
       "      <th>forecast_sirds_hybrid</th>\n",
       "      <th>forecast_lstm_hybrid</th>\n",
       "    </tr>\n",
       "  </thead>\n",
       "  <tbody>\n",
       "    <tr>\n",
       "      <th>0</th>\n",
       "      <td>280030.0</td>\n",
       "      <td>Aracaju</td>\n",
       "      <td>2020-04-25</td>\n",
       "      <td>2020-04-26</td>\n",
       "      <td>0.0</td>\n",
       "      <td>0.026982</td>\n",
       "      <td>0.014681</td>\n",
       "      <td>0.008211</td>\n",
       "      <td>0.049671</td>\n",
       "    </tr>\n",
       "    <tr>\n",
       "      <th>1</th>\n",
       "      <td>280030.0</td>\n",
       "      <td>Aracaju</td>\n",
       "      <td>2020-04-25</td>\n",
       "      <td>2020-04-27</td>\n",
       "      <td>0.0</td>\n",
       "      <td>0.028788</td>\n",
       "      <td>0.009759</td>\n",
       "      <td>0.007756</td>\n",
       "      <td>0.051311</td>\n",
       "    </tr>\n",
       "    <tr>\n",
       "      <th>2</th>\n",
       "      <td>280030.0</td>\n",
       "      <td>Aracaju</td>\n",
       "      <td>2020-04-25</td>\n",
       "      <td>2020-04-28</td>\n",
       "      <td>0.0</td>\n",
       "      <td>0.030689</td>\n",
       "      <td>0.006912</td>\n",
       "      <td>0.007353</td>\n",
       "      <td>0.050429</td>\n",
       "    </tr>\n",
       "    <tr>\n",
       "      <th>3</th>\n",
       "      <td>280030.0</td>\n",
       "      <td>Aracaju</td>\n",
       "      <td>2020-04-25</td>\n",
       "      <td>2020-04-29</td>\n",
       "      <td>0.0</td>\n",
       "      <td>0.032698</td>\n",
       "      <td>0.010024</td>\n",
       "      <td>0.006966</td>\n",
       "      <td>0.052750</td>\n",
       "    </tr>\n",
       "    <tr>\n",
       "      <th>4</th>\n",
       "      <td>280030.0</td>\n",
       "      <td>Aracaju</td>\n",
       "      <td>2020-04-25</td>\n",
       "      <td>2020-04-30</td>\n",
       "      <td>0.0</td>\n",
       "      <td>0.034857</td>\n",
       "      <td>0.005650</td>\n",
       "      <td>0.006600</td>\n",
       "      <td>0.054124</td>\n",
       "    </tr>\n",
       "    <tr>\n",
       "      <th>...</th>\n",
       "      <td>...</td>\n",
       "      <td>...</td>\n",
       "      <td>...</td>\n",
       "      <td>...</td>\n",
       "      <td>...</td>\n",
       "      <td>...</td>\n",
       "      <td>...</td>\n",
       "      <td>...</td>\n",
       "      <td>...</td>\n",
       "    </tr>\n",
       "    <tr>\n",
       "      <th>617675</th>\n",
       "      <td>291080.0</td>\n",
       "      <td>Feira de Santana</td>\n",
       "      <td>2020-04-25</td>\n",
       "      <td>2020-05-19</td>\n",
       "      <td>19.0</td>\n",
       "      <td>NaN</td>\n",
       "      <td>0.000326</td>\n",
       "      <td>NaN</td>\n",
       "      <td>NaN</td>\n",
       "    </tr>\n",
       "    <tr>\n",
       "      <th>617676</th>\n",
       "      <td>291080.0</td>\n",
       "      <td>Feira de Santana</td>\n",
       "      <td>2020-04-25</td>\n",
       "      <td>2020-05-20</td>\n",
       "      <td>19.0</td>\n",
       "      <td>NaN</td>\n",
       "      <td>0.000505</td>\n",
       "      <td>NaN</td>\n",
       "      <td>NaN</td>\n",
       "    </tr>\n",
       "    <tr>\n",
       "      <th>617677</th>\n",
       "      <td>291080.0</td>\n",
       "      <td>Feira de Santana</td>\n",
       "      <td>2020-04-25</td>\n",
       "      <td>2020-05-21</td>\n",
       "      <td>19.0</td>\n",
       "      <td>NaN</td>\n",
       "      <td>0.000579</td>\n",
       "      <td>NaN</td>\n",
       "      <td>NaN</td>\n",
       "    </tr>\n",
       "    <tr>\n",
       "      <th>617678</th>\n",
       "      <td>291080.0</td>\n",
       "      <td>Feira de Santana</td>\n",
       "      <td>2020-04-25</td>\n",
       "      <td>2020-05-22</td>\n",
       "      <td>19.0</td>\n",
       "      <td>NaN</td>\n",
       "      <td>0.001109</td>\n",
       "      <td>NaN</td>\n",
       "      <td>NaN</td>\n",
       "    </tr>\n",
       "    <tr>\n",
       "      <th>617679</th>\n",
       "      <td>291080.0</td>\n",
       "      <td>Feira de Santana</td>\n",
       "      <td>2020-04-25</td>\n",
       "      <td>2020-05-23</td>\n",
       "      <td>19.0</td>\n",
       "      <td>NaN</td>\n",
       "      <td>0.001815</td>\n",
       "      <td>NaN</td>\n",
       "      <td>NaN</td>\n",
       "    </tr>\n",
       "  </tbody>\n",
       "</table>\n",
       "<p>617680 rows × 9 columns</p>\n",
       "</div>"
      ]
     },
     "execution_count": 20,
     "metadata": {},
     "output_type": "execute_result"
    }
   ],
   "execution_count": 20
  },
  {
   "metadata": {},
   "cell_type": "markdown",
   "source": "## Treating data"
  },
  {
   "metadata": {},
   "cell_type": "markdown",
   "source": "## Forecasting using the mean"
  },
  {
   "metadata": {
    "ExecuteTime": {
     "end_time": "2024-08-03T02:39:03.818865Z",
     "start_time": "2024-08-03T02:39:03.707914Z"
    }
   },
   "cell_type": "code",
   "source": [
    "# df['forecast'] = df[['forecast_sirds', 'forecast_lstm_univariate', 'forecast_sirds_hybrid', 'forecast_lstm_hybrid']].mean(axis=1)\n",
    "df['forecast'] = df[['forecast_sirds', 'forecast_lstm_univariate', 'forecast_sirds_hybrid']].mean(axis=1)"
   ],
   "outputs": [],
   "execution_count": 21
  },
  {
   "metadata": {
    "ExecuteTime": {
     "end_time": "2024-08-03T02:39:03.870496Z",
     "start_time": "2024-08-03T02:39:03.820553Z"
    }
   },
   "cell_type": "code",
   "source": "df = df.loc[df['forecast'].isna() == False]",
   "outputs": [],
   "execution_count": 22
  },
  {
   "metadata": {
    "ExecuteTime": {
     "end_time": "2024-08-03T02:39:03.892243Z",
     "start_time": "2024-08-03T02:39:03.871592Z"
    }
   },
   "cell_type": "code",
   "source": "df",
   "outputs": [
    {
     "data": {
      "text/plain": [
       "        municipality_id      municipality max_date_to_fit       date  \\\n",
       "0              280030.0           Aracaju      2020-04-25 2020-04-26   \n",
       "1              280030.0           Aracaju      2020-04-25 2020-04-27   \n",
       "2              280030.0           Aracaju      2020-04-25 2020-04-28   \n",
       "3              280030.0           Aracaju      2020-04-25 2020-04-29   \n",
       "4              280030.0           Aracaju      2020-04-25 2020-04-30   \n",
       "...                 ...               ...             ...        ...   \n",
       "617675         291080.0  Feira de Santana      2020-04-25 2020-05-19   \n",
       "617676         291080.0  Feira de Santana      2020-04-25 2020-05-20   \n",
       "617677         291080.0  Feira de Santana      2020-04-25 2020-05-21   \n",
       "617678         291080.0  Feira de Santana      2020-04-25 2020-05-22   \n",
       "617679         291080.0  Feira de Santana      2020-04-25 2020-05-23   \n",
       "\n",
       "        estimation  forecast_sirds  forecast_lstm_univariate  \\\n",
       "0              0.0        0.026982                  0.014681   \n",
       "1              0.0        0.028788                  0.009759   \n",
       "2              0.0        0.030689                  0.006912   \n",
       "3              0.0        0.032698                  0.010024   \n",
       "4              0.0        0.034857                  0.005650   \n",
       "...            ...             ...                       ...   \n",
       "617675        19.0             NaN                  0.000326   \n",
       "617676        19.0             NaN                  0.000505   \n",
       "617677        19.0             NaN                  0.000579   \n",
       "617678        19.0             NaN                  0.001109   \n",
       "617679        19.0             NaN                  0.001815   \n",
       "\n",
       "        forecast_sirds_hybrid  forecast_lstm_hybrid  forecast  \n",
       "0                    0.008211              0.049671  0.016625  \n",
       "1                    0.007756              0.051311  0.015434  \n",
       "2                    0.007353              0.050429  0.014985  \n",
       "3                    0.006966              0.052750  0.016563  \n",
       "4                    0.006600              0.054124  0.015702  \n",
       "...                       ...                   ...       ...  \n",
       "617675                    NaN                   NaN  0.000326  \n",
       "617676                    NaN                   NaN  0.000505  \n",
       "617677                    NaN                   NaN  0.000579  \n",
       "617678                    NaN                   NaN  0.001109  \n",
       "617679                    NaN                   NaN  0.001815  \n",
       "\n",
       "[617680 rows x 10 columns]"
      ],
      "text/html": [
       "<div>\n",
       "<style scoped>\n",
       "    .dataframe tbody tr th:only-of-type {\n",
       "        vertical-align: middle;\n",
       "    }\n",
       "\n",
       "    .dataframe tbody tr th {\n",
       "        vertical-align: top;\n",
       "    }\n",
       "\n",
       "    .dataframe thead th {\n",
       "        text-align: right;\n",
       "    }\n",
       "</style>\n",
       "<table border=\"1\" class=\"dataframe\">\n",
       "  <thead>\n",
       "    <tr style=\"text-align: right;\">\n",
       "      <th></th>\n",
       "      <th>municipality_id</th>\n",
       "      <th>municipality</th>\n",
       "      <th>max_date_to_fit</th>\n",
       "      <th>date</th>\n",
       "      <th>estimation</th>\n",
       "      <th>forecast_sirds</th>\n",
       "      <th>forecast_lstm_univariate</th>\n",
       "      <th>forecast_sirds_hybrid</th>\n",
       "      <th>forecast_lstm_hybrid</th>\n",
       "      <th>forecast</th>\n",
       "    </tr>\n",
       "  </thead>\n",
       "  <tbody>\n",
       "    <tr>\n",
       "      <th>0</th>\n",
       "      <td>280030.0</td>\n",
       "      <td>Aracaju</td>\n",
       "      <td>2020-04-25</td>\n",
       "      <td>2020-04-26</td>\n",
       "      <td>0.0</td>\n",
       "      <td>0.026982</td>\n",
       "      <td>0.014681</td>\n",
       "      <td>0.008211</td>\n",
       "      <td>0.049671</td>\n",
       "      <td>0.016625</td>\n",
       "    </tr>\n",
       "    <tr>\n",
       "      <th>1</th>\n",
       "      <td>280030.0</td>\n",
       "      <td>Aracaju</td>\n",
       "      <td>2020-04-25</td>\n",
       "      <td>2020-04-27</td>\n",
       "      <td>0.0</td>\n",
       "      <td>0.028788</td>\n",
       "      <td>0.009759</td>\n",
       "      <td>0.007756</td>\n",
       "      <td>0.051311</td>\n",
       "      <td>0.015434</td>\n",
       "    </tr>\n",
       "    <tr>\n",
       "      <th>2</th>\n",
       "      <td>280030.0</td>\n",
       "      <td>Aracaju</td>\n",
       "      <td>2020-04-25</td>\n",
       "      <td>2020-04-28</td>\n",
       "      <td>0.0</td>\n",
       "      <td>0.030689</td>\n",
       "      <td>0.006912</td>\n",
       "      <td>0.007353</td>\n",
       "      <td>0.050429</td>\n",
       "      <td>0.014985</td>\n",
       "    </tr>\n",
       "    <tr>\n",
       "      <th>3</th>\n",
       "      <td>280030.0</td>\n",
       "      <td>Aracaju</td>\n",
       "      <td>2020-04-25</td>\n",
       "      <td>2020-04-29</td>\n",
       "      <td>0.0</td>\n",
       "      <td>0.032698</td>\n",
       "      <td>0.010024</td>\n",
       "      <td>0.006966</td>\n",
       "      <td>0.052750</td>\n",
       "      <td>0.016563</td>\n",
       "    </tr>\n",
       "    <tr>\n",
       "      <th>4</th>\n",
       "      <td>280030.0</td>\n",
       "      <td>Aracaju</td>\n",
       "      <td>2020-04-25</td>\n",
       "      <td>2020-04-30</td>\n",
       "      <td>0.0</td>\n",
       "      <td>0.034857</td>\n",
       "      <td>0.005650</td>\n",
       "      <td>0.006600</td>\n",
       "      <td>0.054124</td>\n",
       "      <td>0.015702</td>\n",
       "    </tr>\n",
       "    <tr>\n",
       "      <th>...</th>\n",
       "      <td>...</td>\n",
       "      <td>...</td>\n",
       "      <td>...</td>\n",
       "      <td>...</td>\n",
       "      <td>...</td>\n",
       "      <td>...</td>\n",
       "      <td>...</td>\n",
       "      <td>...</td>\n",
       "      <td>...</td>\n",
       "      <td>...</td>\n",
       "    </tr>\n",
       "    <tr>\n",
       "      <th>617675</th>\n",
       "      <td>291080.0</td>\n",
       "      <td>Feira de Santana</td>\n",
       "      <td>2020-04-25</td>\n",
       "      <td>2020-05-19</td>\n",
       "      <td>19.0</td>\n",
       "      <td>NaN</td>\n",
       "      <td>0.000326</td>\n",
       "      <td>NaN</td>\n",
       "      <td>NaN</td>\n",
       "      <td>0.000326</td>\n",
       "    </tr>\n",
       "    <tr>\n",
       "      <th>617676</th>\n",
       "      <td>291080.0</td>\n",
       "      <td>Feira de Santana</td>\n",
       "      <td>2020-04-25</td>\n",
       "      <td>2020-05-20</td>\n",
       "      <td>19.0</td>\n",
       "      <td>NaN</td>\n",
       "      <td>0.000505</td>\n",
       "      <td>NaN</td>\n",
       "      <td>NaN</td>\n",
       "      <td>0.000505</td>\n",
       "    </tr>\n",
       "    <tr>\n",
       "      <th>617677</th>\n",
       "      <td>291080.0</td>\n",
       "      <td>Feira de Santana</td>\n",
       "      <td>2020-04-25</td>\n",
       "      <td>2020-05-21</td>\n",
       "      <td>19.0</td>\n",
       "      <td>NaN</td>\n",
       "      <td>0.000579</td>\n",
       "      <td>NaN</td>\n",
       "      <td>NaN</td>\n",
       "      <td>0.000579</td>\n",
       "    </tr>\n",
       "    <tr>\n",
       "      <th>617678</th>\n",
       "      <td>291080.0</td>\n",
       "      <td>Feira de Santana</td>\n",
       "      <td>2020-04-25</td>\n",
       "      <td>2020-05-22</td>\n",
       "      <td>19.0</td>\n",
       "      <td>NaN</td>\n",
       "      <td>0.001109</td>\n",
       "      <td>NaN</td>\n",
       "      <td>NaN</td>\n",
       "      <td>0.001109</td>\n",
       "    </tr>\n",
       "    <tr>\n",
       "      <th>617679</th>\n",
       "      <td>291080.0</td>\n",
       "      <td>Feira de Santana</td>\n",
       "      <td>2020-04-25</td>\n",
       "      <td>2020-05-23</td>\n",
       "      <td>19.0</td>\n",
       "      <td>NaN</td>\n",
       "      <td>0.001815</td>\n",
       "      <td>NaN</td>\n",
       "      <td>NaN</td>\n",
       "      <td>0.001815</td>\n",
       "    </tr>\n",
       "  </tbody>\n",
       "</table>\n",
       "<p>617680 rows × 10 columns</p>\n",
       "</div>"
      ]
     },
     "execution_count": 23,
     "metadata": {},
     "output_type": "execute_result"
    }
   ],
   "execution_count": 23
  },
  {
   "metadata": {},
   "cell_type": "markdown",
   "source": "## Saving"
  },
  {
   "metadata": {
    "ExecuteTime": {
     "end_time": "2024-08-03T02:39:09.882517Z",
     "start_time": "2024-08-03T02:39:03.893737Z"
    }
   },
   "cell_type": "code",
   "source": [
    "df.to_csv('data/df_forecasting.csv')\n",
    "\n",
    "df_forecasting_mean = df.groupby(['municipality','municipality_id','max_date_to_fit','date'])['forecast'].mean().reset_index()\n",
    "df_forecasting_mean.to_csv('data/df_forecasting_mean.csv')"
   ],
   "outputs": [],
   "execution_count": 24
  }
 ],
 "metadata": {
  "kernelspec": {
   "display_name": "Python 3",
   "language": "python",
   "name": "python3"
  },
  "language_info": {
   "codemirror_mode": {
    "name": "ipython",
    "version": 2
   },
   "file_extension": ".py",
   "mimetype": "text/x-python",
   "name": "python",
   "nbconvert_exporter": "python",
   "pygments_lexer": "ipython2",
   "version": "2.7.6"
  }
 },
 "nbformat": 4,
 "nbformat_minor": 0
}
